{
  "nbformat": 4,
  "nbformat_minor": 0,
  "metadata": {
    "colab": {
      "name": "Copia 2de Artificial Neural Network",
      "provenance": [],
      "collapsed_sections": [],
      "include_colab_link": true
    },
    "kernelspec": {
      "name": "python3",
      "display_name": "Python 3"
    }
  },
  "cells": [
    {
      "cell_type": "markdown",
      "metadata": {
        "id": "view-in-github",
        "colab_type": "text"
      },
      "source": [
        "<a href=\"https://colab.research.google.com/github/creyesmiro/Repositorio-de-prueba/blob/main/Predecir%20la%20producci%C3%B3n%20de%20energ%C3%ADa%20el%C3%A9ctrica%20de%20una%20central%20de%20ciclo%20combinado%20con%20modelo%20de%20regresi%C3%B3n%20lineal.ipynb\" target=\"_parent\"><img src=\"https://colab.research.google.com/assets/colab-badge.svg\" alt=\"Open In Colab\"/></a>"
      ]
    },
    {
      "cell_type": "markdown",
      "metadata": {
        "id": "3cbb7fRy-eyr"
      },
      "source": [
        "# Artificial Neural Network"
      ]
    },
    {
      "cell_type": "markdown",
      "metadata": {
        "id": "8sNDnxE2-pwE"
      },
      "source": [
        "### Importing the libraries"
      ]
    },
    {
      "cell_type": "code",
      "metadata": {
        "id": "lxChR1Rk-umf"
      },
      "source": [
        "import numpy as np\n",
        "import pandas as pd\n",
        "import tensorflow as tf\n",
        "import matplotlib.pyplot as plt\n"
      ],
      "execution_count": 15,
      "outputs": []
    },
    {
      "cell_type": "code",
      "metadata": {
        "id": "uBTqR3nacj0e",
        "colab": {
          "base_uri": "https://localhost:8080/",
          "height": 36
        },
        "outputId": "052594de-0c59-42a2-c3ec-294dd25e5f59"
      },
      "source": [
        "tf.__version__"
      ],
      "execution_count": 16,
      "outputs": [
        {
          "output_type": "execute_result",
          "data": {
            "text/plain": [
              "'2.8.0'"
            ],
            "application/vnd.google.colaboratory.intrinsic+json": {
              "type": "string"
            }
          },
          "metadata": {},
          "execution_count": 16
        }
      ]
    },
    {
      "cell_type": "markdown",
      "metadata": {
        "id": "AG3FQEch-yuA"
      },
      "source": [
        "## Part 1 - Data Preprocessing"
      ]
    },
    {
      "cell_type": "markdown",
      "metadata": {
        "id": "-4zq8Mza_D9O"
      },
      "source": [
        "### Importing the dataset"
      ]
    },
    {
      "cell_type": "code",
      "metadata": {
        "id": "B9CV13Co_HHM"
      },
      "source": [
        "# Abrimos la base de datos que previamente debe ser subida\n",
        "dataset = pd.read_excel('Folds5x2_pp.xlsx')\n",
        "\n",
        "#Separar variables dependientes e independientes\n",
        "X = dataset.iloc[:, :-1].values\n",
        "y = dataset.iloc[:, -1].values"
      ],
      "execution_count": 17,
      "outputs": []
    },
    {
      "cell_type": "markdown",
      "metadata": {
        "id": "VC6omXel_Up0"
      },
      "source": [
        "### Splitting the dataset into the Training set and Test set"
      ]
    },
    {
      "cell_type": "code",
      "metadata": {
        "id": "L5edeb2r_agx"
      },
      "source": [
        "# Función seleccionador de modelos para compararlos y procesar datos desde una segunda biblioteca\n",
        "from sklearn.model_selection import train_test_split\n",
        "\n",
        "# Recomendable 20 o 25 por ciento, numero de observaciones\n",
        "# random_state para evitar diferentes divisiones del conjunto de entrenamiento y del conjunto de prueba.\n",
        "X_train, X_test, y_train, y_test = train_test_split(X, y, test_size = 0.2, random_state = 0)\n",
        "X_train, X_val, y_train, y_val = train_test_split(X_train, y_train, test_size=0.2, random_state=1)"
      ],
      "execution_count": 18,
      "outputs": []
    },
    {
      "cell_type": "markdown",
      "metadata": {
        "id": "_mSLlAT9_eyI"
      },
      "source": [
        "## Part 2 - Building the ANN"
      ]
    },
    {
      "cell_type": "markdown",
      "metadata": {
        "id": "CsBULd_f_wLY"
      },
      "source": [
        "### Initializing the ANN"
      ]
    },
    {
      "cell_type": "code",
      "metadata": {
        "id": "J6Hd97Ls__Nz"
      },
      "source": [
        "ann = tf.keras.models.Sequential()"
      ],
      "execution_count": 19,
      "outputs": []
    },
    {
      "cell_type": "markdown",
      "metadata": {
        "id": "iitAFJS_ABUn"
      },
      "source": [
        "### Adding the input layer and the first hidden layer"
      ]
    },
    {
      "cell_type": "code",
      "metadata": {
        "id": "ksO_Vv40AHix"
      },
      "source": [
        "# Units: número de neuronas ocultas\n",
        "# relu: Rectify activation function. Romperá la linealidad de las operaciones que ocurren entre la capa de entrada y la primera capa oculta\n",
        "ann.add(tf.keras.layers.Dense(units=6, activation='relu'))"
      ],
      "execution_count": 20,
      "outputs": []
    },
    {
      "cell_type": "markdown",
      "metadata": {
        "id": "-lb4kK_wAKbs"
      },
      "source": [
        "### Adding the second hidden layer"
      ]
    },
    {
      "cell_type": "code",
      "metadata": {
        "id": "c2357OqEAQOQ"
      },
      "source": [
        "ann.add(tf.keras.layers.Dense(units=6, activation='relu'))"
      ],
      "execution_count": 21,
      "outputs": []
    },
    {
      "cell_type": "markdown",
      "metadata": {
        "id": "jwMOmKb3AdBY"
      },
      "source": [
        "### Adding the output layer"
      ]
    },
    {
      "cell_type": "code",
      "metadata": {
        "id": "YFATpzsUAkLL"
      },
      "source": [
        "ann.add(tf.keras.layers.Dense(units=1))"
      ],
      "execution_count": 22,
      "outputs": []
    },
    {
      "cell_type": "markdown",
      "metadata": {
        "id": "fq7e4fF6A1yy"
      },
      "source": [
        "## Part 3 - Training the ANN"
      ]
    },
    {
      "cell_type": "markdown",
      "metadata": {
        "id": "qDeylAs2An25"
      },
      "source": [
        "### Compiling the ANN"
      ]
    },
    {
      "cell_type": "code",
      "metadata": {
        "id": "pesgbWlCAtB4"
      },
      "source": [
        "# Optimizar. Para aplicar stochastic gradient descent, denotado Adam. El optimizador actualizará todos los pesos dentro de esta nueva red con el fin de reducir esta carga.\n",
        "ann.compile(optimizer = 'adam', loss = 'mean_squared_error', metrics=['accuracy'])"
      ],
      "execution_count": 23,
      "outputs": []
    },
    {
      "cell_type": "markdown",
      "metadata": {
        "id": "YjVuiybYOo7r"
      },
      "source": [
        "### Training the ANN model on the Training set"
      ]
    },
    {
      "cell_type": "code",
      "metadata": {
        "id": "c_vV-tiiA5zn",
        "colab": {
          "base_uri": "https://localhost:8080/"
        },
        "outputId": "2e195f98-2dad-41d8-dcd0-76b93f0d73bc"
      },
      "source": [
        "# Para entrenar usar método fit.\n",
        "# Para asegurarse de que se converge al reducir la pérdida se quiere empezar con el 100\n",
        "# Batch, conjunto de caracteristicas de la matriz para ser optimizadas a la vez.\n",
        "history=ann.fit(X_train, y_train, batch_size = 32, epochs = 100, validation_data=(X_val, y_val))"
      ],
      "execution_count": 24,
      "outputs": [
        {
          "output_type": "stream",
          "name": "stdout",
          "text": [
            "Epoch 1/100\n",
            "192/192 [==============================] - 1s 3ms/step - loss: 193294.5781 - accuracy: 0.0000e+00 - val_loss: 93313.5078 - val_accuracy: 0.0000e+00\n",
            "Epoch 2/100\n",
            "192/192 [==============================] - 0s 2ms/step - loss: 22385.4902 - accuracy: 0.0000e+00 - val_loss: 618.8492 - val_accuracy: 0.0000e+00\n",
            "Epoch 3/100\n",
            "192/192 [==============================] - 0s 2ms/step - loss: 573.2390 - accuracy: 0.0000e+00 - val_loss: 580.7239 - val_accuracy: 0.0000e+00\n",
            "Epoch 4/100\n",
            "192/192 [==============================] - 0s 2ms/step - loss: 556.9883 - accuracy: 0.0000e+00 - val_loss: 563.7603 - val_accuracy: 0.0000e+00\n",
            "Epoch 5/100\n",
            "192/192 [==============================] - 0s 2ms/step - loss: 539.5936 - accuracy: 0.0000e+00 - val_loss: 544.3600 - val_accuracy: 0.0000e+00\n",
            "Epoch 6/100\n",
            "192/192 [==============================] - 0s 2ms/step - loss: 519.6828 - accuracy: 0.0000e+00 - val_loss: 523.9485 - val_accuracy: 0.0000e+00\n",
            "Epoch 7/100\n",
            "192/192 [==============================] - 0s 2ms/step - loss: 497.5609 - accuracy: 0.0000e+00 - val_loss: 499.1196 - val_accuracy: 0.0000e+00\n",
            "Epoch 8/100\n",
            "192/192 [==============================] - 0s 2ms/step - loss: 473.4825 - accuracy: 0.0000e+00 - val_loss: 473.6353 - val_accuracy: 0.0000e+00\n",
            "Epoch 9/100\n",
            "192/192 [==============================] - 0s 2ms/step - loss: 448.2141 - accuracy: 0.0000e+00 - val_loss: 447.1733 - val_accuracy: 0.0000e+00\n",
            "Epoch 10/100\n",
            "192/192 [==============================] - 0s 2ms/step - loss: 421.6727 - accuracy: 0.0000e+00 - val_loss: 419.0182 - val_accuracy: 0.0000e+00\n",
            "Epoch 11/100\n",
            "192/192 [==============================] - 0s 2ms/step - loss: 393.8669 - accuracy: 0.0000e+00 - val_loss: 391.4309 - val_accuracy: 0.0000e+00\n",
            "Epoch 12/100\n",
            "192/192 [==============================] - 0s 2ms/step - loss: 365.0987 - accuracy: 0.0000e+00 - val_loss: 360.5677 - val_accuracy: 0.0000e+00\n",
            "Epoch 13/100\n",
            "192/192 [==============================] - 0s 2ms/step - loss: 336.2588 - accuracy: 0.0000e+00 - val_loss: 332.3524 - val_accuracy: 0.0000e+00\n",
            "Epoch 14/100\n",
            "192/192 [==============================] - 0s 2ms/step - loss: 306.6724 - accuracy: 0.0000e+00 - val_loss: 303.1854 - val_accuracy: 0.0000e+00\n",
            "Epoch 15/100\n",
            "192/192 [==============================] - 0s 2ms/step - loss: 278.9122 - accuracy: 0.0000e+00 - val_loss: 271.2108 - val_accuracy: 0.0000e+00\n",
            "Epoch 16/100\n",
            "192/192 [==============================] - 0s 2ms/step - loss: 249.3567 - accuracy: 0.0000e+00 - val_loss: 242.1375 - val_accuracy: 0.0000e+00\n",
            "Epoch 17/100\n",
            "192/192 [==============================] - 0s 2ms/step - loss: 221.8423 - accuracy: 0.0000e+00 - val_loss: 214.3036 - val_accuracy: 0.0000e+00\n",
            "Epoch 18/100\n",
            "192/192 [==============================] - 0s 2ms/step - loss: 195.0805 - accuracy: 0.0000e+00 - val_loss: 187.7977 - val_accuracy: 0.0000e+00\n",
            "Epoch 19/100\n",
            "192/192 [==============================] - 0s 2ms/step - loss: 169.6050 - accuracy: 0.0000e+00 - val_loss: 163.0081 - val_accuracy: 0.0000e+00\n",
            "Epoch 20/100\n",
            "192/192 [==============================] - 0s 2ms/step - loss: 145.6025 - accuracy: 0.0000e+00 - val_loss: 139.3978 - val_accuracy: 0.0000e+00\n",
            "Epoch 21/100\n",
            "192/192 [==============================] - 0s 2ms/step - loss: 123.9041 - accuracy: 0.0000e+00 - val_loss: 118.9086 - val_accuracy: 0.0000e+00\n",
            "Epoch 22/100\n",
            "192/192 [==============================] - 0s 2ms/step - loss: 104.9229 - accuracy: 0.0000e+00 - val_loss: 99.1873 - val_accuracy: 0.0000e+00\n",
            "Epoch 23/100\n",
            "192/192 [==============================] - 0s 2ms/step - loss: 87.4764 - accuracy: 0.0000e+00 - val_loss: 82.9253 - val_accuracy: 0.0000e+00\n",
            "Epoch 24/100\n",
            "192/192 [==============================] - 0s 2ms/step - loss: 72.9428 - accuracy: 0.0000e+00 - val_loss: 69.0175 - val_accuracy: 0.0000e+00\n",
            "Epoch 25/100\n",
            "192/192 [==============================] - 0s 3ms/step - loss: 60.2332 - accuracy: 0.0000e+00 - val_loss: 57.6504 - val_accuracy: 0.0000e+00\n",
            "Epoch 26/100\n",
            "192/192 [==============================] - 0s 2ms/step - loss: 50.3957 - accuracy: 0.0000e+00 - val_loss: 49.2623 - val_accuracy: 0.0000e+00\n",
            "Epoch 27/100\n",
            "192/192 [==============================] - 0s 2ms/step - loss: 42.6495 - accuracy: 0.0000e+00 - val_loss: 41.8312 - val_accuracy: 0.0000e+00\n",
            "Epoch 28/100\n",
            "192/192 [==============================] - 0s 2ms/step - loss: 37.0650 - accuracy: 0.0000e+00 - val_loss: 37.4756 - val_accuracy: 0.0000e+00\n",
            "Epoch 29/100\n",
            "192/192 [==============================] - 0s 2ms/step - loss: 32.9380 - accuracy: 0.0000e+00 - val_loss: 33.5165 - val_accuracy: 0.0000e+00\n",
            "Epoch 30/100\n",
            "192/192 [==============================] - 0s 2ms/step - loss: 30.4541 - accuracy: 0.0000e+00 - val_loss: 31.5810 - val_accuracy: 0.0000e+00\n",
            "Epoch 31/100\n",
            "192/192 [==============================] - 0s 2ms/step - loss: 28.4351 - accuracy: 0.0000e+00 - val_loss: 29.9476 - val_accuracy: 0.0000e+00\n",
            "Epoch 32/100\n",
            "192/192 [==============================] - 0s 2ms/step - loss: 27.6166 - accuracy: 0.0000e+00 - val_loss: 28.9669 - val_accuracy: 0.0000e+00\n",
            "Epoch 33/100\n",
            "192/192 [==============================] - 0s 2ms/step - loss: 26.7422 - accuracy: 0.0000e+00 - val_loss: 28.8540 - val_accuracy: 0.0000e+00\n",
            "Epoch 34/100\n",
            "192/192 [==============================] - 0s 2ms/step - loss: 26.5573 - accuracy: 0.0000e+00 - val_loss: 28.2344 - val_accuracy: 0.0000e+00\n",
            "Epoch 35/100\n",
            "192/192 [==============================] - 0s 2ms/step - loss: 26.2087 - accuracy: 0.0000e+00 - val_loss: 28.0656 - val_accuracy: 0.0000e+00\n",
            "Epoch 36/100\n",
            "192/192 [==============================] - 0s 2ms/step - loss: 26.3558 - accuracy: 0.0000e+00 - val_loss: 27.9180 - val_accuracy: 0.0000e+00\n",
            "Epoch 37/100\n",
            "192/192 [==============================] - 0s 2ms/step - loss: 26.1274 - accuracy: 0.0000e+00 - val_loss: 27.9922 - val_accuracy: 0.0000e+00\n",
            "Epoch 38/100\n",
            "192/192 [==============================] - 0s 2ms/step - loss: 26.0731 - accuracy: 0.0000e+00 - val_loss: 27.8199 - val_accuracy: 0.0000e+00\n",
            "Epoch 39/100\n",
            "192/192 [==============================] - 0s 2ms/step - loss: 26.0966 - accuracy: 0.0000e+00 - val_loss: 27.8031 - val_accuracy: 0.0000e+00\n",
            "Epoch 40/100\n",
            "192/192 [==============================] - 0s 2ms/step - loss: 26.1078 - accuracy: 0.0000e+00 - val_loss: 28.8042 - val_accuracy: 0.0000e+00\n",
            "Epoch 41/100\n",
            "192/192 [==============================] - 0s 2ms/step - loss: 26.7248 - accuracy: 0.0000e+00 - val_loss: 28.1675 - val_accuracy: 0.0000e+00\n",
            "Epoch 42/100\n",
            "192/192 [==============================] - 0s 2ms/step - loss: 25.9522 - accuracy: 0.0000e+00 - val_loss: 30.5465 - val_accuracy: 0.0000e+00\n",
            "Epoch 43/100\n",
            "192/192 [==============================] - 0s 2ms/step - loss: 26.2395 - accuracy: 0.0000e+00 - val_loss: 27.9509 - val_accuracy: 0.0000e+00\n",
            "Epoch 44/100\n",
            "192/192 [==============================] - 0s 2ms/step - loss: 26.1625 - accuracy: 0.0000e+00 - val_loss: 30.4790 - val_accuracy: 0.0000e+00\n",
            "Epoch 45/100\n",
            "192/192 [==============================] - 0s 2ms/step - loss: 26.3474 - accuracy: 0.0000e+00 - val_loss: 29.3204 - val_accuracy: 0.0000e+00\n",
            "Epoch 46/100\n",
            "192/192 [==============================] - 0s 2ms/step - loss: 26.1004 - accuracy: 0.0000e+00 - val_loss: 28.2580 - val_accuracy: 0.0000e+00\n",
            "Epoch 47/100\n",
            "192/192 [==============================] - 0s 2ms/step - loss: 26.6292 - accuracy: 0.0000e+00 - val_loss: 36.1988 - val_accuracy: 0.0000e+00\n",
            "Epoch 48/100\n",
            "192/192 [==============================] - 0s 2ms/step - loss: 25.9527 - accuracy: 0.0000e+00 - val_loss: 28.1811 - val_accuracy: 0.0000e+00\n",
            "Epoch 49/100\n",
            "192/192 [==============================] - 0s 2ms/step - loss: 26.0320 - accuracy: 0.0000e+00 - val_loss: 27.6723 - val_accuracy: 0.0000e+00\n",
            "Epoch 50/100\n",
            "192/192 [==============================] - 0s 2ms/step - loss: 25.9529 - accuracy: 0.0000e+00 - val_loss: 28.9086 - val_accuracy: 0.0000e+00\n",
            "Epoch 51/100\n",
            "192/192 [==============================] - 0s 2ms/step - loss: 26.5579 - accuracy: 0.0000e+00 - val_loss: 27.7195 - val_accuracy: 0.0000e+00\n",
            "Epoch 52/100\n",
            "192/192 [==============================] - 0s 2ms/step - loss: 26.3008 - accuracy: 0.0000e+00 - val_loss: 28.2076 - val_accuracy: 0.0000e+00\n",
            "Epoch 53/100\n",
            "192/192 [==============================] - 0s 2ms/step - loss: 26.0616 - accuracy: 0.0000e+00 - val_loss: 27.6398 - val_accuracy: 0.0000e+00\n",
            "Epoch 54/100\n",
            "192/192 [==============================] - 0s 2ms/step - loss: 26.2700 - accuracy: 0.0000e+00 - val_loss: 28.9199 - val_accuracy: 0.0000e+00\n",
            "Epoch 55/100\n",
            "192/192 [==============================] - 0s 2ms/step - loss: 26.3991 - accuracy: 0.0000e+00 - val_loss: 33.8383 - val_accuracy: 0.0000e+00\n",
            "Epoch 56/100\n",
            "192/192 [==============================] - 0s 2ms/step - loss: 26.4020 - accuracy: 0.0000e+00 - val_loss: 28.1111 - val_accuracy: 0.0000e+00\n",
            "Epoch 57/100\n",
            "192/192 [==============================] - 0s 2ms/step - loss: 26.1376 - accuracy: 0.0000e+00 - val_loss: 27.5806 - val_accuracy: 0.0000e+00\n",
            "Epoch 58/100\n",
            "192/192 [==============================] - 0s 2ms/step - loss: 26.4767 - accuracy: 0.0000e+00 - val_loss: 27.8740 - val_accuracy: 0.0000e+00\n",
            "Epoch 59/100\n",
            "192/192 [==============================] - 0s 3ms/step - loss: 26.0049 - accuracy: 0.0000e+00 - val_loss: 28.3666 - val_accuracy: 0.0000e+00\n",
            "Epoch 60/100\n",
            "192/192 [==============================] - 0s 2ms/step - loss: 26.2157 - accuracy: 0.0000e+00 - val_loss: 27.9078 - val_accuracy: 0.0000e+00\n",
            "Epoch 61/100\n",
            "192/192 [==============================] - 0s 3ms/step - loss: 26.0634 - accuracy: 0.0000e+00 - val_loss: 30.6987 - val_accuracy: 0.0000e+00\n",
            "Epoch 62/100\n",
            "192/192 [==============================] - 0s 2ms/step - loss: 26.1436 - accuracy: 0.0000e+00 - val_loss: 27.5564 - val_accuracy: 0.0000e+00\n",
            "Epoch 63/100\n",
            "192/192 [==============================] - 0s 2ms/step - loss: 25.8032 - accuracy: 0.0000e+00 - val_loss: 27.8682 - val_accuracy: 0.0000e+00\n",
            "Epoch 64/100\n",
            "192/192 [==============================] - 0s 2ms/step - loss: 26.4432 - accuracy: 0.0000e+00 - val_loss: 27.5751 - val_accuracy: 0.0000e+00\n",
            "Epoch 65/100\n",
            "192/192 [==============================] - 0s 2ms/step - loss: 26.8500 - accuracy: 0.0000e+00 - val_loss: 28.0655 - val_accuracy: 0.0000e+00\n",
            "Epoch 66/100\n",
            "192/192 [==============================] - 0s 2ms/step - loss: 26.0121 - accuracy: 0.0000e+00 - val_loss: 27.7984 - val_accuracy: 0.0000e+00\n",
            "Epoch 67/100\n",
            "192/192 [==============================] - 0s 2ms/step - loss: 26.0783 - accuracy: 0.0000e+00 - val_loss: 28.5333 - val_accuracy: 0.0000e+00\n",
            "Epoch 68/100\n",
            "192/192 [==============================] - 0s 2ms/step - loss: 26.1366 - accuracy: 0.0000e+00 - val_loss: 28.7748 - val_accuracy: 0.0000e+00\n",
            "Epoch 69/100\n",
            "192/192 [==============================] - 0s 2ms/step - loss: 26.3795 - accuracy: 0.0000e+00 - val_loss: 27.5997 - val_accuracy: 0.0000e+00\n",
            "Epoch 70/100\n",
            "192/192 [==============================] - 0s 2ms/step - loss: 25.7898 - accuracy: 0.0000e+00 - val_loss: 29.6069 - val_accuracy: 0.0000e+00\n",
            "Epoch 71/100\n",
            "192/192 [==============================] - 0s 2ms/step - loss: 26.3640 - accuracy: 0.0000e+00 - val_loss: 29.3125 - val_accuracy: 0.0000e+00\n",
            "Epoch 72/100\n",
            "192/192 [==============================] - 0s 2ms/step - loss: 26.2672 - accuracy: 0.0000e+00 - val_loss: 29.0180 - val_accuracy: 0.0000e+00\n",
            "Epoch 73/100\n",
            "192/192 [==============================] - 0s 2ms/step - loss: 26.1633 - accuracy: 0.0000e+00 - val_loss: 29.5627 - val_accuracy: 0.0000e+00\n",
            "Epoch 74/100\n",
            "192/192 [==============================] - 0s 2ms/step - loss: 25.9857 - accuracy: 0.0000e+00 - val_loss: 27.6648 - val_accuracy: 0.0000e+00\n",
            "Epoch 75/100\n",
            "192/192 [==============================] - 0s 2ms/step - loss: 26.4873 - accuracy: 0.0000e+00 - val_loss: 31.1283 - val_accuracy: 0.0000e+00\n",
            "Epoch 76/100\n",
            "192/192 [==============================] - 0s 2ms/step - loss: 25.7170 - accuracy: 0.0000e+00 - val_loss: 27.9087 - val_accuracy: 0.0000e+00\n",
            "Epoch 77/100\n",
            "192/192 [==============================] - 0s 2ms/step - loss: 26.1581 - accuracy: 0.0000e+00 - val_loss: 31.4597 - val_accuracy: 0.0000e+00\n",
            "Epoch 78/100\n",
            "192/192 [==============================] - 0s 2ms/step - loss: 26.6106 - accuracy: 0.0000e+00 - val_loss: 29.0255 - val_accuracy: 0.0000e+00\n",
            "Epoch 79/100\n",
            "192/192 [==============================] - 0s 2ms/step - loss: 26.1610 - accuracy: 0.0000e+00 - val_loss: 27.6278 - val_accuracy: 0.0000e+00\n",
            "Epoch 80/100\n",
            "192/192 [==============================] - 0s 2ms/step - loss: 26.1388 - accuracy: 0.0000e+00 - val_loss: 27.7855 - val_accuracy: 0.0000e+00\n",
            "Epoch 81/100\n",
            "192/192 [==============================] - 0s 2ms/step - loss: 25.9847 - accuracy: 0.0000e+00 - val_loss: 29.1605 - val_accuracy: 0.0000e+00\n",
            "Epoch 82/100\n",
            "192/192 [==============================] - 0s 2ms/step - loss: 25.9248 - accuracy: 0.0000e+00 - val_loss: 28.4833 - val_accuracy: 0.0000e+00\n",
            "Epoch 83/100\n",
            "192/192 [==============================] - 0s 2ms/step - loss: 26.6167 - accuracy: 0.0000e+00 - val_loss: 27.6430 - val_accuracy: 0.0000e+00\n",
            "Epoch 84/100\n",
            "192/192 [==============================] - 0s 2ms/step - loss: 26.0621 - accuracy: 0.0000e+00 - val_loss: 28.1806 - val_accuracy: 0.0000e+00\n",
            "Epoch 85/100\n",
            "192/192 [==============================] - 0s 2ms/step - loss: 25.8445 - accuracy: 0.0000e+00 - val_loss: 27.6544 - val_accuracy: 0.0000e+00\n",
            "Epoch 86/100\n",
            "192/192 [==============================] - 0s 2ms/step - loss: 25.8100 - accuracy: 0.0000e+00 - val_loss: 27.8214 - val_accuracy: 0.0000e+00\n",
            "Epoch 87/100\n",
            "192/192 [==============================] - 0s 2ms/step - loss: 26.4508 - accuracy: 0.0000e+00 - val_loss: 27.9254 - val_accuracy: 0.0000e+00\n",
            "Epoch 88/100\n",
            "192/192 [==============================] - 0s 2ms/step - loss: 26.3850 - accuracy: 0.0000e+00 - val_loss: 27.6520 - val_accuracy: 0.0000e+00\n",
            "Epoch 89/100\n",
            "192/192 [==============================] - 0s 2ms/step - loss: 25.7903 - accuracy: 0.0000e+00 - val_loss: 29.3639 - val_accuracy: 0.0000e+00\n",
            "Epoch 90/100\n",
            "192/192 [==============================] - 0s 2ms/step - loss: 26.5438 - accuracy: 0.0000e+00 - val_loss: 28.1213 - val_accuracy: 0.0000e+00\n",
            "Epoch 91/100\n",
            "192/192 [==============================] - 0s 2ms/step - loss: 26.2696 - accuracy: 0.0000e+00 - val_loss: 28.8285 - val_accuracy: 0.0000e+00\n",
            "Epoch 92/100\n",
            "192/192 [==============================] - 0s 2ms/step - loss: 26.6984 - accuracy: 0.0000e+00 - val_loss: 28.9669 - val_accuracy: 0.0000e+00\n",
            "Epoch 93/100\n",
            "192/192 [==============================] - 0s 2ms/step - loss: 26.8224 - accuracy: 0.0000e+00 - val_loss: 28.3326 - val_accuracy: 0.0000e+00\n",
            "Epoch 94/100\n",
            "192/192 [==============================] - 0s 2ms/step - loss: 26.2896 - accuracy: 0.0000e+00 - val_loss: 34.4667 - val_accuracy: 0.0000e+00\n",
            "Epoch 95/100\n",
            "192/192 [==============================] - 0s 2ms/step - loss: 26.8078 - accuracy: 0.0000e+00 - val_loss: 29.4333 - val_accuracy: 0.0000e+00\n",
            "Epoch 96/100\n",
            "192/192 [==============================] - 0s 2ms/step - loss: 26.5231 - accuracy: 0.0000e+00 - val_loss: 27.7198 - val_accuracy: 0.0000e+00\n",
            "Epoch 97/100\n",
            "192/192 [==============================] - 0s 2ms/step - loss: 26.4999 - accuracy: 0.0000e+00 - val_loss: 28.6167 - val_accuracy: 0.0000e+00\n",
            "Epoch 98/100\n",
            "192/192 [==============================] - 0s 2ms/step - loss: 27.0369 - accuracy: 0.0000e+00 - val_loss: 27.6530 - val_accuracy: 0.0000e+00\n",
            "Epoch 99/100\n",
            "192/192 [==============================] - 0s 2ms/step - loss: 25.8421 - accuracy: 0.0000e+00 - val_loss: 27.6995 - val_accuracy: 0.0000e+00\n",
            "Epoch 100/100\n",
            "192/192 [==============================] - 0s 2ms/step - loss: 26.5858 - accuracy: 0.0000e+00 - val_loss: 27.5413 - val_accuracy: 0.0000e+00\n"
          ]
        }
      ]
    },
    {
      "cell_type": "markdown",
      "metadata": {
        "id": "0H0zKKNEBLD5"
      },
      "source": [
        "### Predicting the results of the Test set"
      ]
    },
    {
      "cell_type": "code",
      "metadata": {
        "id": "IA0yApEmBG1X",
        "colab": {
          "base_uri": "https://localhost:8080/"
        },
        "outputId": "ec74e927-7832-4f65-a541-56257be938f1"
      },
      "source": [
        "# Almacenar valores predichos en una nueva variable\n",
        "y_pred = ann.predict(X_test)\n",
        "\n",
        "# Ajustar que la impresión se haga en 2 decimales\n",
        "np.set_printoptions(precision=2)\n",
        "\n",
        "#Dar forma vertical a las variables para comparar\n",
        "print(' y_pred vs. y_test')\n",
        "print(np.concatenate((y_pred.reshape(len(y_pred),1), y_test.reshape(len(y_test),1)),1))"
      ],
      "execution_count": 25,
      "outputs": [
        {
          "output_type": "stream",
          "name": "stdout",
          "text": [
            " y_pred vs. y_test\n",
            "[[431.28 431.23]\n",
            " [462.27 460.01]\n",
            " [465.72 461.14]\n",
            " ...\n",
            " [473.   473.26]\n",
            " [439.82 438.  ]\n",
            " [459.01 463.28]]\n"
          ]
        }
      ]
    },
    {
      "cell_type": "markdown",
      "source": [
        "# Calidad de la estimación\n",
        "Coeficiente de determinación R-squared\n",
        "La calidad de la estimación se puede medir a través del Coeficiente de determinación"
      ],
      "metadata": {
        "id": "KGX4RWa5pxPG"
      }
    },
    {
      "cell_type": "code",
      "source": [
        "#Construir el modelo de regresión lineal\n",
        "\n",
        "#Statsmodel ajusta una linea para el conjunto de datos\n",
        "import statsmodels.api as sm\n",
        "\n",
        "#Constante de intercepción\n",
        "X_train_sm=sm.add_constant(X_train)\n",
        "print('Intercepto añadido - '+str(X_train_sm))"
      ],
      "metadata": {
        "colab": {
          "base_uri": "https://localhost:8080/"
        },
        "id": "FQ3YgdzxhRi0",
        "outputId": "7b30d6f3-5caf-469a-828e-c7ce5f10793d"
      },
      "execution_count": 26,
      "outputs": [
        {
          "output_type": "stream",
          "name": "stdout",
          "text": [
            "Intercepto añadido - [[1.00e+00 8.43e+00 4.07e+01 1.02e+03 8.73e+01]\n",
            " [1.00e+00 2.70e+01 6.10e+01 1.01e+03 5.90e+01]\n",
            " [1.00e+00 2.11e+01 6.31e+01 1.01e+03 9.80e+01]\n",
            " ...\n",
            " [1.00e+00 2.39e+01 5.99e+01 1.01e+03 8.64e+01]\n",
            " [1.00e+00 1.59e+01 4.12e+01 1.01e+03 7.83e+01]\n",
            " [1.00e+00 2.64e+01 4.90e+01 1.01e+03 7.08e+01]]\n"
          ]
        }
      ]
    },
    {
      "cell_type": "code",
      "source": [
        "#Ajustar la linea de regresión\n",
        "#Módulo de ajuste en LogisticRegression para entrenar los parámetros del modelo\n",
        "lr=sm.OLS(y_train, X_train_sm).fit()\n",
        "lr.params\n",
        "lr.summary()"
      ],
      "metadata": {
        "colab": {
          "base_uri": "https://localhost:8080/",
          "height": 541
        },
        "id": "BO2qnl7Njrte",
        "outputId": "e8b6110c-3bbe-4bf3-ccf4-2c6d215e7ba1"
      },
      "execution_count": 27,
      "outputs": [
        {
          "output_type": "execute_result",
          "data": {
            "text/plain": [
              "<class 'statsmodels.iolib.summary.Summary'>\n",
              "\"\"\"\n",
              "                            OLS Regression Results                            \n",
              "==============================================================================\n",
              "Dep. Variable:                      y   R-squared:                       0.928\n",
              "Model:                            OLS   Adj. R-squared:                  0.928\n",
              "Method:                 Least Squares   F-statistic:                 1.975e+04\n",
              "Date:                Fri, 20 May 2022   Prob (F-statistic):               0.00\n",
              "Time:                        18:46:29   Log-Likelihood:                -17998.\n",
              "No. Observations:                6123   AIC:                         3.601e+04\n",
              "Df Residuals:                    6118   BIC:                         3.604e+04\n",
              "Df Model:                           4                                         \n",
              "Covariance Type:            nonrobust                                         \n",
              "==============================================================================\n",
              "                 coef    std err          t      P>|t|      [0.025      0.975]\n",
              "------------------------------------------------------------------------------\n",
              "const        439.0181     12.347     35.556      0.000     414.813     463.223\n",
              "x1            -1.9636      0.019   -102.166      0.000      -2.001      -1.926\n",
              "x2            -0.2367      0.009    -25.704      0.000      -0.255      -0.219\n",
              "x3             0.0774      0.012      6.457      0.000       0.054       0.101\n",
              "x4            -0.1577      0.005    -30.281      0.000      -0.168      -0.147\n",
              "==============================================================================\n",
              "Omnibus:                      547.032   Durbin-Watson:                   1.990\n",
              "Prob(Omnibus):                  0.000   Jarque-Bera (JB):             2304.747\n",
              "Skew:                          -0.356   Prob(JB):                         0.00\n",
              "Kurtosis:                       5.920   Cond. No.                     2.15e+05\n",
              "==============================================================================\n",
              "\n",
              "Warnings:\n",
              "[1] Standard Errors assume that the covariance matrix of the errors is correctly specified.\n",
              "[2] The condition number is large, 2.15e+05. This might indicate that there are\n",
              "strong multicollinearity or other numerical problems.\n",
              "\"\"\""
            ],
            "text/html": [
              "<table class=\"simpletable\">\n",
              "<caption>OLS Regression Results</caption>\n",
              "<tr>\n",
              "  <th>Dep. Variable:</th>            <td>y</td>        <th>  R-squared:         </th> <td>   0.928</td> \n",
              "</tr>\n",
              "<tr>\n",
              "  <th>Model:</th>                   <td>OLS</td>       <th>  Adj. R-squared:    </th> <td>   0.928</td> \n",
              "</tr>\n",
              "<tr>\n",
              "  <th>Method:</th>             <td>Least Squares</td>  <th>  F-statistic:       </th> <td>1.975e+04</td>\n",
              "</tr>\n",
              "<tr>\n",
              "  <th>Date:</th>             <td>Fri, 20 May 2022</td> <th>  Prob (F-statistic):</th>  <td>  0.00</td>  \n",
              "</tr>\n",
              "<tr>\n",
              "  <th>Time:</th>                 <td>18:46:29</td>     <th>  Log-Likelihood:    </th> <td> -17998.</td> \n",
              "</tr>\n",
              "<tr>\n",
              "  <th>No. Observations:</th>      <td>  6123</td>      <th>  AIC:               </th> <td>3.601e+04</td>\n",
              "</tr>\n",
              "<tr>\n",
              "  <th>Df Residuals:</th>          <td>  6118</td>      <th>  BIC:               </th> <td>3.604e+04</td>\n",
              "</tr>\n",
              "<tr>\n",
              "  <th>Df Model:</th>              <td>     4</td>      <th>                     </th>     <td> </td>    \n",
              "</tr>\n",
              "<tr>\n",
              "  <th>Covariance Type:</th>      <td>nonrobust</td>    <th>                     </th>     <td> </td>    \n",
              "</tr>\n",
              "</table>\n",
              "<table class=\"simpletable\">\n",
              "<tr>\n",
              "    <td></td>       <th>coef</th>     <th>std err</th>      <th>t</th>      <th>P>|t|</th>  <th>[0.025</th>    <th>0.975]</th>  \n",
              "</tr>\n",
              "<tr>\n",
              "  <th>const</th> <td>  439.0181</td> <td>   12.347</td> <td>   35.556</td> <td> 0.000</td> <td>  414.813</td> <td>  463.223</td>\n",
              "</tr>\n",
              "<tr>\n",
              "  <th>x1</th>    <td>   -1.9636</td> <td>    0.019</td> <td> -102.166</td> <td> 0.000</td> <td>   -2.001</td> <td>   -1.926</td>\n",
              "</tr>\n",
              "<tr>\n",
              "  <th>x2</th>    <td>   -0.2367</td> <td>    0.009</td> <td>  -25.704</td> <td> 0.000</td> <td>   -0.255</td> <td>   -0.219</td>\n",
              "</tr>\n",
              "<tr>\n",
              "  <th>x3</th>    <td>    0.0774</td> <td>    0.012</td> <td>    6.457</td> <td> 0.000</td> <td>    0.054</td> <td>    0.101</td>\n",
              "</tr>\n",
              "<tr>\n",
              "  <th>x4</th>    <td>   -0.1577</td> <td>    0.005</td> <td>  -30.281</td> <td> 0.000</td> <td>   -0.168</td> <td>   -0.147</td>\n",
              "</tr>\n",
              "</table>\n",
              "<table class=\"simpletable\">\n",
              "<tr>\n",
              "  <th>Omnibus:</th>       <td>547.032</td> <th>  Durbin-Watson:     </th> <td>   1.990</td>\n",
              "</tr>\n",
              "<tr>\n",
              "  <th>Prob(Omnibus):</th> <td> 0.000</td>  <th>  Jarque-Bera (JB):  </th> <td>2304.747</td>\n",
              "</tr>\n",
              "<tr>\n",
              "  <th>Skew:</th>          <td>-0.356</td>  <th>  Prob(JB):          </th> <td>    0.00</td>\n",
              "</tr>\n",
              "<tr>\n",
              "  <th>Kurtosis:</th>      <td> 5.920</td>  <th>  Cond. No.          </th> <td>2.15e+05</td>\n",
              "</tr>\n",
              "</table><br/><br/>Warnings:<br/>[1] Standard Errors assume that the covariance matrix of the errors is correctly specified.<br/>[2] The condition number is large, 2.15e+05. This might indicate that there are<br/>strong multicollinearity or other numerical problems."
            ]
          },
          "metadata": {},
          "execution_count": 27
        }
      ]
    },
    {
      "cell_type": "markdown",
      "source": [
        "R-squared value es 0.928.\n",
        "\n",
        "92.8% de la varianza del peso para el conjunto de datos de prueba puede explicarse por la altura.\n",
        "\n",
        "F es bajo, el ajuste es significativo\n",
        "Los errores estándar suponen que la matriz de covarianza de los errores está correctamente especificada.\n",
        "\n",
        "El número de condición es grande, 2,15e+05. Esto podría indicar que hay fuerte multicolinealidad u otros problemas numéricos."
      ],
      "metadata": {
        "id": "kp-mWFfQoHAh"
      }
    },
    {
      "cell_type": "code",
      "source": [
        "#Graficar comparación de resultados\n",
        "plt.figure(figsize=(10,10))\n",
        "plt.scatter(y_test, y_pred, c='crimson')\n",
        "plt.yscale('log')\n",
        "plt.xscale('log')\n",
        "\n",
        "p1 = max(max(y_pred), max(y_test))\n",
        "p2 = min(min(y_pred), min(y_test))\n",
        "plt.plot([p1, p2], [p1, p2], 'b-')\n",
        "plt.xlabel('True Values', fontsize=15)\n",
        "plt.ylabel('Predictions', fontsize=15)\n",
        "plt.axis('equal')\n",
        "plt.show()"
      ],
      "metadata": {
        "colab": {
          "base_uri": "https://localhost:8080/",
          "height": 613
        },
        "id": "WPnZOV8mP40h",
        "outputId": "5b8d134a-1ccd-4620-ab56-d4060fbfabf5"
      },
      "execution_count": 28,
      "outputs": [
        {
          "output_type": "display_data",
          "data": {
            "text/plain": [
              "<Figure size 720x720 with 1 Axes>"
            ],
            "image/png": "[encoded data removed]"
          },
          "metadata": {
            "needs_background": "light"
          }
        }
      ]
    }
  ]
}