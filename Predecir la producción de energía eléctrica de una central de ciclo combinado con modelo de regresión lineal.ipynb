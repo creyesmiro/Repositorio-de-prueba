{
  "nbformat": 4,
  "nbformat_minor": 0,
  "metadata": {
    "colab": {
      "name": "Copia 2de Artificial Neural Network",
      "provenance": [],
      "collapsed_sections": []
    },
    "kernelspec": {
      "name": "python3",
      "display_name": "Python 3"
    }
  },
  "cells": [
    {
      "cell_type": "markdown",
      "metadata": {
        "id": "3cbb7fRy-eyr"
      },
      "source": [
        "# Artificial Neural Network"
      ]
    },
    {
      "cell_type": "markdown",
      "metadata": {
        "id": "8sNDnxE2-pwE"
      },
      "source": [
        "### Importing the libraries"
      ]
    },
    {
      "cell_type": "code",
      "metadata": {
        "id": "lxChR1Rk-umf"
      },
      "source": [
        "import numpy as np\n",
        "import pandas as pd\n",
        "import tensorflow as tf\n",
        "import matplotlib.pyplot as plt\n",
        "from sklearn.model_selection import train_test_split"
      ],
      "execution_count": 33,
      "outputs": []
    },
    {
      "cell_type": "code",
      "metadata": {
        "id": "uBTqR3nacj0e",
        "colab": {
          "base_uri": "https://localhost:8080/",
          "height": 36
        },
        "outputId": "9fe63e89-f00b-48f6-84c2-44ed781f617a"
      },
      "source": [
        "tf.__version__"
      ],
      "execution_count": 34,
      "outputs": [
        {
          "output_type": "execute_result",
          "data": {
            "text/plain": [
              "'2.8.0'"
            ],
            "application/vnd.google.colaboratory.intrinsic+json": {
              "type": "string"
            }
          },
          "metadata": {},
          "execution_count": 34
        }
      ]
    },
    {
      "cell_type": "markdown",
      "metadata": {
        "id": "AG3FQEch-yuA"
      },
      "source": [
        "## Part 1 - Data Preprocessing"
      ]
    },
    {
      "cell_type": "markdown",
      "metadata": {
        "id": "-4zq8Mza_D9O"
      },
      "source": [
        "### Importing the dataset"
      ]
    },
    {
      "cell_type": "code",
      "metadata": {
        "id": "B9CV13Co_HHM"
      },
      "source": [
        "# Abrimos la base de datos que previamente debe ser subida\n",
        "dataset = pd.read_excel('Folds5x2_pp.xlsx')\n",
        "\n",
        "#Separar variables dependientes e independientes\n",
        "X = dataset.iloc[:, :-1].values\n",
        "y = dataset.iloc[:, -1].values"
      ],
      "execution_count": 35,
      "outputs": []
    },
    {
      "cell_type": "markdown",
      "metadata": {
        "id": "VC6omXel_Up0"
      },
      "source": [
        "### Splitting the dataset into the Training set and Test set"
      ]
    },
    {
      "cell_type": "code",
      "metadata": {
        "id": "L5edeb2r_agx"
      },
      "source": [
        "# Función seleccionador de modelos para compararlos y procesar datos desde una segunda biblioteca\n",
        "from sklearn.model_selection import train_test_split\n",
        "\n",
        "# Recomendable 20 o 25 por ciento, numero de observaciones\n",
        "# random_state para evitar diferentes divisiones del conjunto de entrenamiento y del conjunto de prueba.\n",
        "X_train, X_test, y_train, y_test = train_test_split(X, y, test_size = 0.2, random_state = 0)\n",
        "X_train, X_val, y_train, y_val = train_test_split(X_train, y_train, test_size=0.2, random_state=1)"
      ],
      "execution_count": 36,
      "outputs": []
    },
    {
      "cell_type": "markdown",
      "metadata": {
        "id": "_mSLlAT9_eyI"
      },
      "source": [
        "## Part 2 - Building the ANN"
      ]
    },
    {
      "cell_type": "markdown",
      "metadata": {
        "id": "CsBULd_f_wLY"
      },
      "source": [
        "### Initializing the ANN"
      ]
    },
    {
      "cell_type": "code",
      "metadata": {
        "id": "J6Hd97Ls__Nz"
      },
      "source": [
        "ann = tf.keras.models.Sequential()"
      ],
      "execution_count": 37,
      "outputs": []
    },
    {
      "cell_type": "markdown",
      "metadata": {
        "id": "iitAFJS_ABUn"
      },
      "source": [
        "### Adding the input layer and the first hidden layer"
      ]
    },
    {
      "cell_type": "code",
      "metadata": {
        "id": "ksO_Vv40AHix"
      },
      "source": [
        "# Units: número de neuronas ocultas\n",
        "# relu: Rectify activation function. Romperá la linealidad de las operaciones que ocurren entre la capa de entrada y la primera capa oculta\n",
        "ann.add(tf.keras.layers.Dense(units=6, activation='relu'))"
      ],
      "execution_count": 38,
      "outputs": []
    },
    {
      "cell_type": "markdown",
      "metadata": {
        "id": "-lb4kK_wAKbs"
      },
      "source": [
        "### Adding the second hidden layer"
      ]
    },
    {
      "cell_type": "code",
      "metadata": {
        "id": "c2357OqEAQOQ"
      },
      "source": [
        "ann.add(tf.keras.layers.Dense(units=6, activation='relu'))"
      ],
      "execution_count": 39,
      "outputs": []
    },
    {
      "cell_type": "markdown",
      "metadata": {
        "id": "jwMOmKb3AdBY"
      },
      "source": [
        "### Adding the output layer"
      ]
    },
    {
      "cell_type": "code",
      "metadata": {
        "id": "YFATpzsUAkLL"
      },
      "source": [
        "ann.add(tf.keras.layers.Dense(units=1))"
      ],
      "execution_count": 40,
      "outputs": []
    },
    {
      "cell_type": "markdown",
      "metadata": {
        "id": "fq7e4fF6A1yy"
      },
      "source": [
        "## Part 3 - Training the ANN"
      ]
    },
    {
      "cell_type": "markdown",
      "metadata": {
        "id": "qDeylAs2An25"
      },
      "source": [
        "### Compiling the ANN"
      ]
    },
    {
      "cell_type": "code",
      "metadata": {
        "id": "pesgbWlCAtB4"
      },
      "source": [
        "# Optimizar. Para aplicar stochastic gradient descent, denotado Adam. El optimizador actualizará todos los pesos dentro de esta nueva red con el fin de reducir esta carga.\n",
        "ann.compile(optimizer = 'adam', loss = 'mean_squared_error', metrics=['accuracy'])"
      ],
      "execution_count": 41,
      "outputs": []
    },
    {
      "cell_type": "markdown",
      "metadata": {
        "id": "YjVuiybYOo7r"
      },
      "source": [
        "### Training the ANN model on the Training set"
      ]
    },
    {
      "cell_type": "code",
      "metadata": {
        "id": "c_vV-tiiA5zn",
        "colab": {
          "base_uri": "https://localhost:8080/"
        },
        "outputId": "83527ec0-246c-4f33-f490-2e43e9ba091a"
      },
      "source": [
        "# Para entrenar usar método fit.\n",
        "# Para asegurarse de que se converge al reducir la pérdida se quiere empezar con el 100\n",
        "# Batch, conjunto de caracteristicas de la matriz para ser optimizadas a la vez.\n",
        "history=ann.fit(X_train, y_train, batch_size = 32, epochs = 100, validation_data=(X_val, y_val))"
      ],
      "execution_count": 42,
      "outputs": [
        {
          "output_type": "stream",
          "name": "stdout",
          "text": [
            "Epoch 1/100\n",
            "192/192 [==============================] - 1s 3ms/step - loss: 330.3797 - accuracy: 0.0000e+00 - val_loss: 273.1322 - val_accuracy: 0.0000e+00\n",
            "Epoch 2/100\n",
            "192/192 [==============================] - 0s 2ms/step - loss: 214.1226 - accuracy: 0.0000e+00 - val_loss: 190.0683 - val_accuracy: 0.0000e+00\n",
            "Epoch 3/100\n",
            "192/192 [==============================] - 0s 2ms/step - loss: 146.1351 - accuracy: 0.0000e+00 - val_loss: 131.5663 - val_accuracy: 0.0000e+00\n",
            "Epoch 4/100\n",
            "192/192 [==============================] - 0s 2ms/step - loss: 101.7398 - accuracy: 0.0000e+00 - val_loss: 91.0947 - val_accuracy: 0.0000e+00\n",
            "Epoch 5/100\n",
            "192/192 [==============================] - 0s 2ms/step - loss: 72.7419 - accuracy: 0.0000e+00 - val_loss: 74.9266 - val_accuracy: 0.0000e+00\n",
            "Epoch 6/100\n",
            "192/192 [==============================] - 0s 2ms/step - loss: 57.1932 - accuracy: 0.0000e+00 - val_loss: 56.2677 - val_accuracy: 0.0000e+00\n",
            "Epoch 7/100\n",
            "192/192 [==============================] - 0s 2ms/step - loss: 51.0828 - accuracy: 0.0000e+00 - val_loss: 50.7031 - val_accuracy: 0.0000e+00\n",
            "Epoch 8/100\n",
            "192/192 [==============================] - 0s 2ms/step - loss: 47.9370 - accuracy: 0.0000e+00 - val_loss: 50.7222 - val_accuracy: 0.0000e+00\n",
            "Epoch 9/100\n",
            "192/192 [==============================] - 0s 2ms/step - loss: 45.8339 - accuracy: 0.0000e+00 - val_loss: 47.3178 - val_accuracy: 0.0000e+00\n",
            "Epoch 10/100\n",
            "192/192 [==============================] - 0s 2ms/step - loss: 44.1010 - accuracy: 0.0000e+00 - val_loss: 45.2967 - val_accuracy: 0.0000e+00\n",
            "Epoch 11/100\n",
            "192/192 [==============================] - 0s 2ms/step - loss: 42.6739 - accuracy: 0.0000e+00 - val_loss: 43.0257 - val_accuracy: 0.0000e+00\n",
            "Epoch 12/100\n",
            "192/192 [==============================] - 0s 2ms/step - loss: 42.0385 - accuracy: 0.0000e+00 - val_loss: 41.5910 - val_accuracy: 0.0000e+00\n",
            "Epoch 13/100\n",
            "192/192 [==============================] - 0s 2ms/step - loss: 40.6736 - accuracy: 0.0000e+00 - val_loss: 39.9321 - val_accuracy: 0.0000e+00\n",
            "Epoch 14/100\n",
            "192/192 [==============================] - 0s 2ms/step - loss: 38.9376 - accuracy: 0.0000e+00 - val_loss: 39.3287 - val_accuracy: 0.0000e+00\n",
            "Epoch 15/100\n",
            "192/192 [==============================] - 0s 2ms/step - loss: 38.7614 - accuracy: 0.0000e+00 - val_loss: 39.3243 - val_accuracy: 0.0000e+00\n",
            "Epoch 16/100\n",
            "192/192 [==============================] - 0s 2ms/step - loss: 35.9272 - accuracy: 0.0000e+00 - val_loss: 37.6895 - val_accuracy: 0.0000e+00\n",
            "Epoch 17/100\n",
            "192/192 [==============================] - 0s 2ms/step - loss: 35.3392 - accuracy: 0.0000e+00 - val_loss: 35.3681 - val_accuracy: 0.0000e+00\n",
            "Epoch 18/100\n",
            "192/192 [==============================] - 0s 2ms/step - loss: 34.7534 - accuracy: 0.0000e+00 - val_loss: 37.1835 - val_accuracy: 0.0000e+00\n",
            "Epoch 19/100\n",
            "192/192 [==============================] - 0s 2ms/step - loss: 33.5493 - accuracy: 0.0000e+00 - val_loss: 33.8296 - val_accuracy: 0.0000e+00\n",
            "Epoch 20/100\n",
            "192/192 [==============================] - 0s 2ms/step - loss: 32.7048 - accuracy: 0.0000e+00 - val_loss: 32.7163 - val_accuracy: 0.0000e+00\n",
            "Epoch 21/100\n",
            "192/192 [==============================] - 0s 2ms/step - loss: 31.7104 - accuracy: 0.0000e+00 - val_loss: 33.9587 - val_accuracy: 0.0000e+00\n",
            "Epoch 22/100\n",
            "192/192 [==============================] - 0s 2ms/step - loss: 31.6001 - accuracy: 0.0000e+00 - val_loss: 31.5494 - val_accuracy: 0.0000e+00\n",
            "Epoch 23/100\n",
            "192/192 [==============================] - 0s 2ms/step - loss: 30.1911 - accuracy: 0.0000e+00 - val_loss: 33.0919 - val_accuracy: 0.0000e+00\n",
            "Epoch 24/100\n",
            "192/192 [==============================] - 0s 2ms/step - loss: 29.7029 - accuracy: 0.0000e+00 - val_loss: 30.2232 - val_accuracy: 0.0000e+00\n",
            "Epoch 25/100\n",
            "192/192 [==============================] - 0s 2ms/step - loss: 29.5386 - accuracy: 0.0000e+00 - val_loss: 30.8685 - val_accuracy: 0.0000e+00\n",
            "Epoch 26/100\n",
            "192/192 [==============================] - 0s 2ms/step - loss: 28.8533 - accuracy: 0.0000e+00 - val_loss: 40.2935 - val_accuracy: 0.0000e+00\n",
            "Epoch 27/100\n",
            "192/192 [==============================] - 0s 2ms/step - loss: 28.8043 - accuracy: 0.0000e+00 - val_loss: 29.1414 - val_accuracy: 0.0000e+00\n",
            "Epoch 28/100\n",
            "192/192 [==============================] - 0s 2ms/step - loss: 28.5764 - accuracy: 0.0000e+00 - val_loss: 31.4898 - val_accuracy: 0.0000e+00\n",
            "Epoch 29/100\n",
            "192/192 [==============================] - 0s 2ms/step - loss: 28.4325 - accuracy: 0.0000e+00 - val_loss: 28.5798 - val_accuracy: 0.0000e+00\n",
            "Epoch 30/100\n",
            "192/192 [==============================] - 0s 2ms/step - loss: 27.3645 - accuracy: 0.0000e+00 - val_loss: 28.5498 - val_accuracy: 0.0000e+00\n",
            "Epoch 31/100\n",
            "192/192 [==============================] - 0s 2ms/step - loss: 27.4777 - accuracy: 0.0000e+00 - val_loss: 28.4512 - val_accuracy: 0.0000e+00\n",
            "Epoch 32/100\n",
            "192/192 [==============================] - 0s 2ms/step - loss: 27.4664 - accuracy: 0.0000e+00 - val_loss: 28.2974 - val_accuracy: 0.0000e+00\n",
            "Epoch 33/100\n",
            "192/192 [==============================] - 0s 2ms/step - loss: 26.8617 - accuracy: 0.0000e+00 - val_loss: 34.5699 - val_accuracy: 0.0000e+00\n",
            "Epoch 34/100\n",
            "192/192 [==============================] - 0s 2ms/step - loss: 27.3327 - accuracy: 0.0000e+00 - val_loss: 31.5756 - val_accuracy: 0.0000e+00\n",
            "Epoch 35/100\n",
            "192/192 [==============================] - 0s 2ms/step - loss: 27.8366 - accuracy: 0.0000e+00 - val_loss: 27.8186 - val_accuracy: 0.0000e+00\n",
            "Epoch 36/100\n",
            "192/192 [==============================] - 0s 2ms/step - loss: 27.0929 - accuracy: 0.0000e+00 - val_loss: 27.9575 - val_accuracy: 0.0000e+00\n",
            "Epoch 37/100\n",
            "192/192 [==============================] - 0s 2ms/step - loss: 26.7466 - accuracy: 0.0000e+00 - val_loss: 29.7738 - val_accuracy: 0.0000e+00\n",
            "Epoch 38/100\n",
            "192/192 [==============================] - 0s 2ms/step - loss: 26.8073 - accuracy: 0.0000e+00 - val_loss: 27.7045 - val_accuracy: 0.0000e+00\n",
            "Epoch 39/100\n",
            "192/192 [==============================] - 0s 2ms/step - loss: 27.4113 - accuracy: 0.0000e+00 - val_loss: 28.4947 - val_accuracy: 0.0000e+00\n",
            "Epoch 40/100\n",
            "192/192 [==============================] - 0s 2ms/step - loss: 27.0835 - accuracy: 0.0000e+00 - val_loss: 28.2561 - val_accuracy: 0.0000e+00\n",
            "Epoch 41/100\n",
            "192/192 [==============================] - 0s 2ms/step - loss: 26.1801 - accuracy: 0.0000e+00 - val_loss: 29.5413 - val_accuracy: 0.0000e+00\n",
            "Epoch 42/100\n",
            "192/192 [==============================] - 0s 2ms/step - loss: 27.3207 - accuracy: 0.0000e+00 - val_loss: 28.0398 - val_accuracy: 0.0000e+00\n",
            "Epoch 43/100\n",
            "192/192 [==============================] - 0s 2ms/step - loss: 26.6566 - accuracy: 0.0000e+00 - val_loss: 27.9860 - val_accuracy: 0.0000e+00\n",
            "Epoch 44/100\n",
            "192/192 [==============================] - 0s 2ms/step - loss: 26.6416 - accuracy: 0.0000e+00 - val_loss: 28.7077 - val_accuracy: 0.0000e+00\n",
            "Epoch 45/100\n",
            "192/192 [==============================] - 0s 2ms/step - loss: 26.9019 - accuracy: 0.0000e+00 - val_loss: 28.1233 - val_accuracy: 0.0000e+00\n",
            "Epoch 46/100\n",
            "192/192 [==============================] - 0s 2ms/step - loss: 26.7267 - accuracy: 0.0000e+00 - val_loss: 28.8043 - val_accuracy: 0.0000e+00\n",
            "Epoch 47/100\n",
            "192/192 [==============================] - 0s 2ms/step - loss: 27.1698 - accuracy: 0.0000e+00 - val_loss: 28.6905 - val_accuracy: 0.0000e+00\n",
            "Epoch 48/100\n",
            "192/192 [==============================] - 0s 2ms/step - loss: 26.7132 - accuracy: 0.0000e+00 - val_loss: 28.3861 - val_accuracy: 0.0000e+00\n",
            "Epoch 49/100\n",
            "192/192 [==============================] - 0s 2ms/step - loss: 27.1216 - accuracy: 0.0000e+00 - val_loss: 30.7471 - val_accuracy: 0.0000e+00\n",
            "Epoch 50/100\n",
            "192/192 [==============================] - 0s 2ms/step - loss: 27.1960 - accuracy: 0.0000e+00 - val_loss: 27.5586 - val_accuracy: 0.0000e+00\n",
            "Epoch 51/100\n",
            "192/192 [==============================] - 0s 2ms/step - loss: 26.3956 - accuracy: 0.0000e+00 - val_loss: 31.2185 - val_accuracy: 0.0000e+00\n",
            "Epoch 52/100\n",
            "192/192 [==============================] - 0s 2ms/step - loss: 26.4765 - accuracy: 0.0000e+00 - val_loss: 27.5792 - val_accuracy: 0.0000e+00\n",
            "Epoch 53/100\n",
            "192/192 [==============================] - 0s 2ms/step - loss: 26.2832 - accuracy: 0.0000e+00 - val_loss: 27.6468 - val_accuracy: 0.0000e+00\n",
            "Epoch 54/100\n",
            "192/192 [==============================] - 0s 2ms/step - loss: 26.6218 - accuracy: 0.0000e+00 - val_loss: 28.2298 - val_accuracy: 0.0000e+00\n",
            "Epoch 55/100\n",
            "192/192 [==============================] - 0s 2ms/step - loss: 27.5052 - accuracy: 0.0000e+00 - val_loss: 27.9411 - val_accuracy: 0.0000e+00\n",
            "Epoch 56/100\n",
            "192/192 [==============================] - 0s 2ms/step - loss: 26.6625 - accuracy: 0.0000e+00 - val_loss: 27.6332 - val_accuracy: 0.0000e+00\n",
            "Epoch 57/100\n",
            "192/192 [==============================] - 0s 2ms/step - loss: 26.7271 - accuracy: 0.0000e+00 - val_loss: 27.6985 - val_accuracy: 0.0000e+00\n",
            "Epoch 58/100\n",
            "192/192 [==============================] - 0s 2ms/step - loss: 26.1313 - accuracy: 0.0000e+00 - val_loss: 29.5211 - val_accuracy: 0.0000e+00\n",
            "Epoch 59/100\n",
            "192/192 [==============================] - 0s 2ms/step - loss: 27.2019 - accuracy: 0.0000e+00 - val_loss: 27.7888 - val_accuracy: 0.0000e+00\n",
            "Epoch 60/100\n",
            "192/192 [==============================] - 0s 2ms/step - loss: 26.1529 - accuracy: 0.0000e+00 - val_loss: 29.6059 - val_accuracy: 0.0000e+00\n",
            "Epoch 61/100\n",
            "192/192 [==============================] - 0s 2ms/step - loss: 27.4274 - accuracy: 0.0000e+00 - val_loss: 28.7416 - val_accuracy: 0.0000e+00\n",
            "Epoch 62/100\n",
            "192/192 [==============================] - 0s 2ms/step - loss: 26.2815 - accuracy: 0.0000e+00 - val_loss: 27.5743 - val_accuracy: 0.0000e+00\n",
            "Epoch 63/100\n",
            "192/192 [==============================] - 0s 2ms/step - loss: 26.0295 - accuracy: 0.0000e+00 - val_loss: 30.7049 - val_accuracy: 0.0000e+00\n",
            "Epoch 64/100\n",
            "192/192 [==============================] - 0s 2ms/step - loss: 26.4449 - accuracy: 0.0000e+00 - val_loss: 28.2402 - val_accuracy: 0.0000e+00\n",
            "Epoch 65/100\n",
            "192/192 [==============================] - 0s 2ms/step - loss: 26.3628 - accuracy: 0.0000e+00 - val_loss: 29.0399 - val_accuracy: 0.0000e+00\n",
            "Epoch 66/100\n",
            "192/192 [==============================] - 0s 2ms/step - loss: 26.9963 - accuracy: 0.0000e+00 - val_loss: 29.3074 - val_accuracy: 0.0000e+00\n",
            "Epoch 67/100\n",
            "192/192 [==============================] - 0s 2ms/step - loss: 26.3249 - accuracy: 0.0000e+00 - val_loss: 27.9796 - val_accuracy: 0.0000e+00\n",
            "Epoch 68/100\n",
            "192/192 [==============================] - 0s 2ms/step - loss: 26.6397 - accuracy: 0.0000e+00 - val_loss: 28.9300 - val_accuracy: 0.0000e+00\n",
            "Epoch 69/100\n",
            "192/192 [==============================] - 0s 2ms/step - loss: 26.4256 - accuracy: 0.0000e+00 - val_loss: 28.9305 - val_accuracy: 0.0000e+00\n",
            "Epoch 70/100\n",
            "192/192 [==============================] - 0s 2ms/step - loss: 26.6340 - accuracy: 0.0000e+00 - val_loss: 35.0768 - val_accuracy: 0.0000e+00\n",
            "Epoch 71/100\n",
            "192/192 [==============================] - 0s 2ms/step - loss: 27.3469 - accuracy: 0.0000e+00 - val_loss: 27.8319 - val_accuracy: 0.0000e+00\n",
            "Epoch 72/100\n",
            "192/192 [==============================] - 0s 2ms/step - loss: 27.3891 - accuracy: 0.0000e+00 - val_loss: 28.4160 - val_accuracy: 0.0000e+00\n",
            "Epoch 73/100\n",
            "192/192 [==============================] - 0s 2ms/step - loss: 26.9581 - accuracy: 0.0000e+00 - val_loss: 27.5918 - val_accuracy: 0.0000e+00\n",
            "Epoch 74/100\n",
            "192/192 [==============================] - 0s 2ms/step - loss: 27.0098 - accuracy: 0.0000e+00 - val_loss: 29.3854 - val_accuracy: 0.0000e+00\n",
            "Epoch 75/100\n",
            "192/192 [==============================] - 0s 2ms/step - loss: 26.1078 - accuracy: 0.0000e+00 - val_loss: 27.5701 - val_accuracy: 0.0000e+00\n",
            "Epoch 76/100\n",
            "192/192 [==============================] - 0s 2ms/step - loss: 26.8707 - accuracy: 0.0000e+00 - val_loss: 27.9439 - val_accuracy: 0.0000e+00\n",
            "Epoch 77/100\n",
            "192/192 [==============================] - 0s 2ms/step - loss: 26.4031 - accuracy: 0.0000e+00 - val_loss: 27.6239 - val_accuracy: 0.0000e+00\n",
            "Epoch 78/100\n",
            "192/192 [==============================] - 0s 2ms/step - loss: 27.0099 - accuracy: 0.0000e+00 - val_loss: 28.1826 - val_accuracy: 0.0000e+00\n",
            "Epoch 79/100\n",
            "192/192 [==============================] - 0s 2ms/step - loss: 26.0135 - accuracy: 0.0000e+00 - val_loss: 27.8265 - val_accuracy: 0.0000e+00\n",
            "Epoch 80/100\n",
            "192/192 [==============================] - 0s 2ms/step - loss: 27.3026 - accuracy: 0.0000e+00 - val_loss: 31.2043 - val_accuracy: 0.0000e+00\n",
            "Epoch 81/100\n",
            "192/192 [==============================] - 0s 2ms/step - loss: 27.3255 - accuracy: 0.0000e+00 - val_loss: 27.5843 - val_accuracy: 0.0000e+00\n",
            "Epoch 82/100\n",
            "192/192 [==============================] - 0s 2ms/step - loss: 27.1185 - accuracy: 0.0000e+00 - val_loss: 28.9557 - val_accuracy: 0.0000e+00\n",
            "Epoch 83/100\n",
            "192/192 [==============================] - 0s 2ms/step - loss: 26.9764 - accuracy: 0.0000e+00 - val_loss: 33.5640 - val_accuracy: 0.0000e+00\n",
            "Epoch 84/100\n",
            "192/192 [==============================] - 0s 2ms/step - loss: 26.8831 - accuracy: 0.0000e+00 - val_loss: 27.5520 - val_accuracy: 0.0000e+00\n",
            "Epoch 85/100\n",
            "192/192 [==============================] - 0s 2ms/step - loss: 26.8359 - accuracy: 0.0000e+00 - val_loss: 29.7282 - val_accuracy: 0.0000e+00\n",
            "Epoch 86/100\n",
            "192/192 [==============================] - 0s 2ms/step - loss: 26.8349 - accuracy: 0.0000e+00 - val_loss: 27.5690 - val_accuracy: 0.0000e+00\n",
            "Epoch 87/100\n",
            "192/192 [==============================] - 0s 2ms/step - loss: 25.9817 - accuracy: 0.0000e+00 - val_loss: 27.3963 - val_accuracy: 0.0000e+00\n",
            "Epoch 88/100\n",
            "192/192 [==============================] - 0s 2ms/step - loss: 26.4832 - accuracy: 0.0000e+00 - val_loss: 27.1547 - val_accuracy: 0.0000e+00\n",
            "Epoch 89/100\n",
            "192/192 [==============================] - 0s 2ms/step - loss: 25.2824 - accuracy: 0.0000e+00 - val_loss: 27.0009 - val_accuracy: 0.0000e+00\n",
            "Epoch 90/100\n",
            "192/192 [==============================] - 0s 2ms/step - loss: 26.4661 - accuracy: 0.0000e+00 - val_loss: 27.6385 - val_accuracy: 0.0000e+00\n",
            "Epoch 91/100\n",
            "192/192 [==============================] - 0s 2ms/step - loss: 25.9468 - accuracy: 0.0000e+00 - val_loss: 29.2112 - val_accuracy: 0.0000e+00\n",
            "Epoch 92/100\n",
            "192/192 [==============================] - 0s 2ms/step - loss: 25.8447 - accuracy: 0.0000e+00 - val_loss: 27.1265 - val_accuracy: 0.0000e+00\n",
            "Epoch 93/100\n",
            "192/192 [==============================] - 0s 2ms/step - loss: 25.3147 - accuracy: 0.0000e+00 - val_loss: 26.5971 - val_accuracy: 0.0000e+00\n",
            "Epoch 94/100\n",
            "192/192 [==============================] - 0s 2ms/step - loss: 25.5444 - accuracy: 0.0000e+00 - val_loss: 26.7375 - val_accuracy: 0.0000e+00\n",
            "Epoch 95/100\n",
            "192/192 [==============================] - 0s 2ms/step - loss: 25.6282 - accuracy: 0.0000e+00 - val_loss: 26.4883 - val_accuracy: 0.0000e+00\n",
            "Epoch 96/100\n",
            "192/192 [==============================] - 0s 2ms/step - loss: 25.1620 - accuracy: 0.0000e+00 - val_loss: 27.1093 - val_accuracy: 0.0000e+00\n",
            "Epoch 97/100\n",
            "192/192 [==============================] - 0s 2ms/step - loss: 24.9955 - accuracy: 0.0000e+00 - val_loss: 28.4575 - val_accuracy: 0.0000e+00\n",
            "Epoch 98/100\n",
            "192/192 [==============================] - 0s 2ms/step - loss: 25.4888 - accuracy: 0.0000e+00 - val_loss: 25.9836 - val_accuracy: 0.0000e+00\n",
            "Epoch 99/100\n",
            "192/192 [==============================] - 0s 2ms/step - loss: 25.6294 - accuracy: 0.0000e+00 - val_loss: 26.0095 - val_accuracy: 0.0000e+00\n",
            "Epoch 100/100\n",
            "192/192 [==============================] - 0s 3ms/step - loss: 25.0023 - accuracy: 0.0000e+00 - val_loss: 27.3922 - val_accuracy: 0.0000e+00\n"
          ]
        }
      ]
    },
    {
      "cell_type": "markdown",
      "metadata": {
        "id": "0H0zKKNEBLD5"
      },
      "source": [
        "### Predicting the results of the Test set"
      ]
    },
    {
      "cell_type": "code",
      "metadata": {
        "id": "IA0yApEmBG1X",
        "colab": {
          "base_uri": "https://localhost:8080/"
        },
        "outputId": "6e8bd6a3-ba89-469e-c1f5-1eff138e86d7"
      },
      "source": [
        "# Almacenar valores predichos en una nueva variable\n",
        "y_pred = ann.predict(X_test)\n",
        "\n",
        "# Ajustar que la impresión se haga en 2 decimales\n",
        "np.set_printoptions(precision=2)\n",
        "\n",
        "#Dar forma vertical a las variables para comparar\n",
        "print(' y_pred vs. y_test')\n",
        "print(np.concatenate((y_pred.reshape(len(y_pred),1), y_test.reshape(len(y_test),1)),1))"
      ],
      "execution_count": 43,
      "outputs": [
        {
          "output_type": "stream",
          "name": "stdout",
          "text": [
            " y_pred vs. y_test\n",
            "[[432.36 431.23]\n",
            " [462.75 460.01]\n",
            " [467.14 461.14]\n",
            " ...\n",
            " [474.92 473.26]\n",
            " [441.4  438.  ]\n",
            " [459.12 463.28]]\n"
          ]
        }
      ]
    },
    {
      "cell_type": "markdown",
      "source": [
        "# Calidad de la estimación\n",
        "Coeficiente de determinación R-squared\n",
        "La calidad de la estimación se puede medir a través del Coeficiente de determinación"
      ],
      "metadata": {
        "id": "KGX4RWa5pxPG"
      }
    },
    {
      "cell_type": "code",
      "source": [
        "#Construir el modelo de regresión lineal\n",
        "\n",
        "#Statsmodel ajusta una linea para el conjunto de datos\n",
        "import statsmodels.api as sm\n",
        "\n",
        "#Cte de intercepción\n",
        "X_train_sm=sm.add_constant(X_train)\n",
        "print('Intecepto añadido - '+str(X_train_sm))"
      ],
      "metadata": {
        "colab": {
          "base_uri": "https://localhost:8080/"
        },
        "id": "FQ3YgdzxhRi0",
        "outputId": "c49a06c5-134a-4e95-a731-26d9de6ed333"
      },
      "execution_count": 44,
      "outputs": [
        {
          "output_type": "stream",
          "name": "stdout",
          "text": [
            "Intecepto añadido - [[1.00e+00 8.43e+00 4.07e+01 1.02e+03 8.73e+01]\n",
            " [1.00e+00 2.70e+01 6.10e+01 1.01e+03 5.90e+01]\n",
            " [1.00e+00 2.11e+01 6.31e+01 1.01e+03 9.80e+01]\n",
            " ...\n",
            " [1.00e+00 2.39e+01 5.99e+01 1.01e+03 8.64e+01]\n",
            " [1.00e+00 1.59e+01 4.12e+01 1.01e+03 7.83e+01]\n",
            " [1.00e+00 2.64e+01 4.90e+01 1.01e+03 7.08e+01]]\n"
          ]
        }
      ]
    },
    {
      "cell_type": "code",
      "source": [
        "#Ajustar la linea de regresión\n",
        "lr=sm.OLS(y_train, X_train_sm).fit()\n",
        "lr.params\n",
        "lr.summary()"
      ],
      "metadata": {
        "colab": {
          "base_uri": "https://localhost:8080/",
          "height": 541
        },
        "id": "BO2qnl7Njrte",
        "outputId": "53fd87cb-46ae-4638-ca96-95aa7e62534c"
      },
      "execution_count": 45,
      "outputs": [
        {
          "output_type": "execute_result",
          "data": {
            "text/plain": [
              "<class 'statsmodels.iolib.summary.Summary'>\n",
              "\"\"\"\n",
              "                            OLS Regression Results                            \n",
              "==============================================================================\n",
              "Dep. Variable:                      y   R-squared:                       0.928\n",
              "Model:                            OLS   Adj. R-squared:                  0.928\n",
              "Method:                 Least Squares   F-statistic:                 1.975e+04\n",
              "Date:                Fri, 20 May 2022   Prob (F-statistic):               0.00\n",
              "Time:                        13:07:57   Log-Likelihood:                -17998.\n",
              "No. Observations:                6123   AIC:                         3.601e+04\n",
              "Df Residuals:                    6118   BIC:                         3.604e+04\n",
              "Df Model:                           4                                         \n",
              "Covariance Type:            nonrobust                                         \n",
              "==============================================================================\n",
              "                 coef    std err          t      P>|t|      [0.025      0.975]\n",
              "------------------------------------------------------------------------------\n",
              "const        439.0181     12.347     35.556      0.000     414.813     463.223\n",
              "x1            -1.9636      0.019   -102.166      0.000      -2.001      -1.926\n",
              "x2            -0.2367      0.009    -25.704      0.000      -0.255      -0.219\n",
              "x3             0.0774      0.012      6.457      0.000       0.054       0.101\n",
              "x4            -0.1577      0.005    -30.281      0.000      -0.168      -0.147\n",
              "==============================================================================\n",
              "Omnibus:                      547.032   Durbin-Watson:                   1.990\n",
              "Prob(Omnibus):                  0.000   Jarque-Bera (JB):             2304.747\n",
              "Skew:                          -0.356   Prob(JB):                         0.00\n",
              "Kurtosis:                       5.920   Cond. No.                     2.15e+05\n",
              "==============================================================================\n",
              "\n",
              "Warnings:\n",
              "[1] Standard Errors assume that the covariance matrix of the errors is correctly specified.\n",
              "[2] The condition number is large, 2.15e+05. This might indicate that there are\n",
              "strong multicollinearity or other numerical problems.\n",
              "\"\"\""
            ],
            "text/html": [
              "<table class=\"simpletable\">\n",
              "<caption>OLS Regression Results</caption>\n",
              "<tr>\n",
              "  <th>Dep. Variable:</th>            <td>y</td>        <th>  R-squared:         </th> <td>   0.928</td> \n",
              "</tr>\n",
              "<tr>\n",
              "  <th>Model:</th>                   <td>OLS</td>       <th>  Adj. R-squared:    </th> <td>   0.928</td> \n",
              "</tr>\n",
              "<tr>\n",
              "  <th>Method:</th>             <td>Least Squares</td>  <th>  F-statistic:       </th> <td>1.975e+04</td>\n",
              "</tr>\n",
              "<tr>\n",
              "  <th>Date:</th>             <td>Fri, 20 May 2022</td> <th>  Prob (F-statistic):</th>  <td>  0.00</td>  \n",
              "</tr>\n",
              "<tr>\n",
              "  <th>Time:</th>                 <td>13:07:57</td>     <th>  Log-Likelihood:    </th> <td> -17998.</td> \n",
              "</tr>\n",
              "<tr>\n",
              "  <th>No. Observations:</th>      <td>  6123</td>      <th>  AIC:               </th> <td>3.601e+04</td>\n",
              "</tr>\n",
              "<tr>\n",
              "  <th>Df Residuals:</th>          <td>  6118</td>      <th>  BIC:               </th> <td>3.604e+04</td>\n",
              "</tr>\n",
              "<tr>\n",
              "  <th>Df Model:</th>              <td>     4</td>      <th>                     </th>     <td> </td>    \n",
              "</tr>\n",
              "<tr>\n",
              "  <th>Covariance Type:</th>      <td>nonrobust</td>    <th>                     </th>     <td> </td>    \n",
              "</tr>\n",
              "</table>\n",
              "<table class=\"simpletable\">\n",
              "<tr>\n",
              "    <td></td>       <th>coef</th>     <th>std err</th>      <th>t</th>      <th>P>|t|</th>  <th>[0.025</th>    <th>0.975]</th>  \n",
              "</tr>\n",
              "<tr>\n",
              "  <th>const</th> <td>  439.0181</td> <td>   12.347</td> <td>   35.556</td> <td> 0.000</td> <td>  414.813</td> <td>  463.223</td>\n",
              "</tr>\n",
              "<tr>\n",
              "  <th>x1</th>    <td>   -1.9636</td> <td>    0.019</td> <td> -102.166</td> <td> 0.000</td> <td>   -2.001</td> <td>   -1.926</td>\n",
              "</tr>\n",
              "<tr>\n",
              "  <th>x2</th>    <td>   -0.2367</td> <td>    0.009</td> <td>  -25.704</td> <td> 0.000</td> <td>   -0.255</td> <td>   -0.219</td>\n",
              "</tr>\n",
              "<tr>\n",
              "  <th>x3</th>    <td>    0.0774</td> <td>    0.012</td> <td>    6.457</td> <td> 0.000</td> <td>    0.054</td> <td>    0.101</td>\n",
              "</tr>\n",
              "<tr>\n",
              "  <th>x4</th>    <td>   -0.1577</td> <td>    0.005</td> <td>  -30.281</td> <td> 0.000</td> <td>   -0.168</td> <td>   -0.147</td>\n",
              "</tr>\n",
              "</table>\n",
              "<table class=\"simpletable\">\n",
              "<tr>\n",
              "  <th>Omnibus:</th>       <td>547.032</td> <th>  Durbin-Watson:     </th> <td>   1.990</td>\n",
              "</tr>\n",
              "<tr>\n",
              "  <th>Prob(Omnibus):</th> <td> 0.000</td>  <th>  Jarque-Bera (JB):  </th> <td>2304.747</td>\n",
              "</tr>\n",
              "<tr>\n",
              "  <th>Skew:</th>          <td>-0.356</td>  <th>  Prob(JB):          </th> <td>    0.00</td>\n",
              "</tr>\n",
              "<tr>\n",
              "  <th>Kurtosis:</th>      <td> 5.920</td>  <th>  Cond. No.          </th> <td>2.15e+05</td>\n",
              "</tr>\n",
              "</table><br/><br/>Warnings:<br/>[1] Standard Errors assume that the covariance matrix of the errors is correctly specified.<br/>[2] The condition number is large, 2.15e+05. This might indicate that there are<br/>strong multicollinearity or other numerical problems."
            ]
          },
          "metadata": {},
          "execution_count": 45
        }
      ]
    },
    {
      "cell_type": "markdown",
      "source": [
        "R-squared value es 0.928.\n",
        "\n",
        "92.8% de la varianza del peso para el conjunto de datos de prueba puede explicarse por la altura.\n",
        "\n",
        "F es bajo, el ajuste es significativo\n",
        "Los errores estándar suponen que la matriz de covarianza de los errores está correctamente especificada.\n",
        "\n",
        "El número de condición es grande, 2,15e+05. Esto podría indicar que hay fuerte multicolinealidad u otros problemas numéricos."
      ],
      "metadata": {
        "id": "kp-mWFfQoHAh"
      }
    },
    {
      "cell_type": "code",
      "source": [
        "#Graficar comparación de resultados\n",
        "plt.figure(figsize=(10,10))\n",
        "plt.scatter(y_test, y_pred, c='crimson')\n",
        "plt.yscale('log')\n",
        "plt.xscale('log')\n",
        "\n",
        "p1 = max(max(y_pred), max(y_test))\n",
        "p2 = min(min(y_pred), min(y_test))\n",
        "plt.plot([p1, p2], [p1, p2], 'b-')\n",
        "plt.xlabel('True Values', fontsize=15)\n",
        "plt.ylabel('Predictions', fontsize=15)\n",
        "plt.axis('equal')\n",
        "plt.show()"
      ],
      "metadata": {
        "colab": {
          "base_uri": "https://localhost:8080/",
          "height": 613
        },
        "id": "WPnZOV8mP40h",
        "outputId": "be4f2153-d81a-4918-9b70-e9981d545be4"
      },
      "execution_count": 46,
      "outputs": [
        {
          "output_type": "display_data",
          "data": {
            "text/plain": [
              "<Figure size 720x720 with 1 Axes>"
            ],
            "image/png": "[encoded data removed]"
          },
          "metadata": {
            "needs_background": "light"
          }
        }
      ]
    },
    {
      "cell_type": "markdown",
      "source": [
        "Para un conjunto de datos dado, si tenemos una variable dependiente e independiente continua, se puede utilizar un modelo estadístico de regresión lineal simple para predecir la variable dependiente"
      ],
      "metadata": {
        "id": "z-0HGxMq_46d"
      }
    }
  ]
}