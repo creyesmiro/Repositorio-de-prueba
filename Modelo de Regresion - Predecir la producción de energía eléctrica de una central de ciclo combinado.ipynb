{
  "nbformat": 4,
  "nbformat_minor": 0,
  "metadata": {
    "colab": {
      "name": "Copia 2de Artificial Neural Network",
      "provenance": [],
      "collapsed_sections": [],
      "include_colab_link": true
    },
    "kernelspec": {
      "name": "python3",
      "display_name": "Python 3"
    }
  },
  "cells": [
    {
      "cell_type": "markdown",
      "metadata": {
        "id": "view-in-github",
        "colab_type": "text"
      },
      "source": [
        "<a href=\"https://colab.research.google.com/github/creyesmiro/Repositorio-de-prueba/blob/main/Modelo%20de%20Regresion%20-%20Predecir%20la%20producci%C3%B3n%20de%20energ%C3%ADa%20el%C3%A9ctrica%20de%20una%20central%20de%20ciclo%20combinado.ipynb\" target=\"_parent\"><img src=\"https://colab.research.google.com/assets/colab-badge.svg\" alt=\"Open In Colab\"/></a>"
      ]
    },
    {
      "cell_type": "markdown",
      "metadata": {
        "id": "3cbb7fRy-eyr"
      },
      "source": [
        "# Artificial Neural Network"
      ]
    },
    {
      "cell_type": "markdown",
      "metadata": {
        "id": "8sNDnxE2-pwE"
      },
      "source": [
        "### Importing the libraries"
      ]
    },
    {
      "cell_type": "code",
      "metadata": {
        "id": "lxChR1Rk-umf"
      },
      "source": [
        "import numpy as np\n",
        "import pandas as pd\n",
        "import tensorflow as tf\n",
        "import matplotlib.pyplot as plt\n",
        "from sklearn.model_selection import train_test_split"
      ],
      "execution_count": 19,
      "outputs": []
    },
    {
      "cell_type": "code",
      "metadata": {
        "id": "uBTqR3nacj0e",
        "colab": {
          "base_uri": "https://localhost:8080/",
          "height": 36
        },
        "outputId": "abc147ae-5ecd-40fe-808b-cfb5e4728cf7"
      },
      "source": [
        "tf.__version__"
      ],
      "execution_count": 20,
      "outputs": [
        {
          "output_type": "execute_result",
          "data": {
            "text/plain": [
              "'2.8.0'"
            ],
            "application/vnd.google.colaboratory.intrinsic+json": {
              "type": "string"
            }
          },
          "metadata": {},
          "execution_count": 20
        }
      ]
    },
    {
      "cell_type": "markdown",
      "metadata": {
        "id": "AG3FQEch-yuA"
      },
      "source": [
        "## Part 1 - Data Preprocessing"
      ]
    },
    {
      "cell_type": "markdown",
      "metadata": {
        "id": "-4zq8Mza_D9O"
      },
      "source": [
        "### Importing the dataset"
      ]
    },
    {
      "cell_type": "code",
      "metadata": {
        "id": "B9CV13Co_HHM"
      },
      "source": [
        "# Abrimos la base de datos que previamente debe ser subida\n",
        "dataset = pd.read_excel('Folds5x2_pp.xlsx')\n",
        "\n",
        "#Separar variables dependientes e independientes\n",
        "X = dataset.iloc[:, :-1].values\n",
        "y = dataset.iloc[:, -1].values"
      ],
      "execution_count": 21,
      "outputs": []
    },
    {
      "cell_type": "markdown",
      "metadata": {
        "id": "VC6omXel_Up0"
      },
      "source": [
        "### Splitting the dataset into the Training set and Test set"
      ]
    },
    {
      "cell_type": "code",
      "metadata": {
        "id": "L5edeb2r_agx"
      },
      "source": [
        "# Función seleccionador de modelos para compararlos y procesar datos desde una segunda biblioteca\n",
        "from sklearn.model_selection import train_test_split\n",
        "\n",
        "# Recomendable 20 o 25 por ciento, numero de observaciones\n",
        "# random_state para evitar diferentes divisiones del conjunto de entrenamiento y del conjunto de prueba.\n",
        "X_train, X_test, y_train, y_test = train_test_split(X, y, test_size = 0.2, random_state = 0)\n",
        "X_train, X_val, y_train, y_val = train_test_split(X_train, y_train, test_size=0.2, random_state=1)"
      ],
      "execution_count": 22,
      "outputs": []
    },
    {
      "cell_type": "markdown",
      "metadata": {
        "id": "_mSLlAT9_eyI"
      },
      "source": [
        "## Part 2 - Building the ANN"
      ]
    },
    {
      "cell_type": "markdown",
      "metadata": {
        "id": "CsBULd_f_wLY"
      },
      "source": [
        "### Initializing the ANN"
      ]
    },
    {
      "cell_type": "code",
      "metadata": {
        "id": "J6Hd97Ls__Nz"
      },
      "source": [
        "ann = tf.keras.models.Sequential()"
      ],
      "execution_count": 23,
      "outputs": []
    },
    {
      "cell_type": "markdown",
      "metadata": {
        "id": "iitAFJS_ABUn"
      },
      "source": [
        "### Adding the input layer and the first hidden layer"
      ]
    },
    {
      "cell_type": "code",
      "metadata": {
        "id": "ksO_Vv40AHix"
      },
      "source": [
        "# Units: número de neuronas ocultas\n",
        "# relu: Rectify activation function. Romperá la linealidad de las operaciones que ocurren entre la capa de entrada y la primera capa oculta\n",
        "ann.add(tf.keras.layers.Dense(units=6, activation='relu'))"
      ],
      "execution_count": 24,
      "outputs": []
    },
    {
      "cell_type": "markdown",
      "metadata": {
        "id": "-lb4kK_wAKbs"
      },
      "source": [
        "### Adding the second hidden layer"
      ]
    },
    {
      "cell_type": "code",
      "metadata": {
        "id": "c2357OqEAQOQ"
      },
      "source": [
        "ann.add(tf.keras.layers.Dense(units=6, activation='relu'))"
      ],
      "execution_count": 25,
      "outputs": []
    },
    {
      "cell_type": "markdown",
      "metadata": {
        "id": "jwMOmKb3AdBY"
      },
      "source": [
        "### Adding the output layer"
      ]
    },
    {
      "cell_type": "code",
      "metadata": {
        "id": "YFATpzsUAkLL"
      },
      "source": [
        "ann.add(tf.keras.layers.Dense(units=1))"
      ],
      "execution_count": 26,
      "outputs": []
    },
    {
      "cell_type": "markdown",
      "metadata": {
        "id": "fq7e4fF6A1yy"
      },
      "source": [
        "## Part 3 - Training the ANN"
      ]
    },
    {
      "cell_type": "markdown",
      "metadata": {
        "id": "qDeylAs2An25"
      },
      "source": [
        "### Compiling the ANN"
      ]
    },
    {
      "cell_type": "code",
      "metadata": {
        "id": "pesgbWlCAtB4"
      },
      "source": [
        "# Optimizar. Para aplicar stochastic gradient descent, denotado Adam. El optimizador actualizará todos los pesos dentro de esta nueva red con el fin de reducir esta carga.\n",
        "ann.compile(optimizer = 'adam', loss = 'mean_squared_error', metrics=['accuracy'])"
      ],
      "execution_count": 27,
      "outputs": []
    },
    {
      "cell_type": "markdown",
      "metadata": {
        "id": "YjVuiybYOo7r"
      },
      "source": [
        "### Training the ANN model on the Training set"
      ]
    },
    {
      "cell_type": "code",
      "metadata": {
        "id": "c_vV-tiiA5zn",
        "colab": {
          "base_uri": "https://localhost:8080/"
        },
        "outputId": "9d9d0a51-56c4-4ace-cfd1-20fc41d9ee09"
      },
      "source": [
        "# Para entrenar usar método fit.\n",
        "# Para asegurarse de que se converge al reducir la pérdida se quiere empezar con el 100\n",
        "# Batch, conjunto de caracteristicas de la matriz para ser optimizadas a la vez.\n",
        "history=ann.fit(X_train, y_train, batch_size = 32, epochs = 100, validation_data=(X_val, y_val))"
      ],
      "execution_count": 28,
      "outputs": [
        {
          "output_type": "stream",
          "name": "stdout",
          "text": [
            "Epoch 1/100\n",
            "192/192 [==============================] - 1s 3ms/step - loss: 746273.2500 - accuracy: 0.0000e+00 - val_loss: 407469.8438 - val_accuracy: 0.0000e+00\n",
            "Epoch 2/100\n",
            "192/192 [==============================] - 0s 2ms/step - loss: 292283.8125 - accuracy: 0.0000e+00 - val_loss: 227058.0938 - val_accuracy: 0.0000e+00\n",
            "Epoch 3/100\n",
            "192/192 [==============================] - 0s 2ms/step - loss: 210957.1250 - accuracy: 0.0000e+00 - val_loss: 206300.5156 - val_accuracy: 0.0000e+00\n",
            "Epoch 4/100\n",
            "192/192 [==============================] - 0s 2ms/step - loss: 206224.1250 - accuracy: 0.0000e+00 - val_loss: 206156.7031 - val_accuracy: 0.0000e+00\n",
            "Epoch 5/100\n",
            "192/192 [==============================] - 0s 2ms/step - loss: 206080.2500 - accuracy: 0.0000e+00 - val_loss: 206011.8594 - val_accuracy: 0.0000e+00\n",
            "Epoch 6/100\n",
            "192/192 [==============================] - 0s 2ms/step - loss: 205932.6250 - accuracy: 0.0000e+00 - val_loss: 205861.1875 - val_accuracy: 0.0000e+00\n",
            "Epoch 7/100\n",
            "192/192 [==============================] - 0s 2ms/step - loss: 205779.8125 - accuracy: 0.0000e+00 - val_loss: 205705.9219 - val_accuracy: 0.0000e+00\n",
            "Epoch 8/100\n",
            "192/192 [==============================] - 0s 2ms/step - loss: 205622.9531 - accuracy: 0.0000e+00 - val_loss: 205547.2031 - val_accuracy: 0.0000e+00\n",
            "Epoch 9/100\n",
            "192/192 [==============================] - 0s 2ms/step - loss: 205462.6406 - accuracy: 0.0000e+00 - val_loss: 205385.6562 - val_accuracy: 0.0000e+00\n",
            "Epoch 10/100\n",
            "192/192 [==============================] - 0s 2ms/step - loss: 205299.8750 - accuracy: 0.0000e+00 - val_loss: 205221.8125 - val_accuracy: 0.0000e+00\n",
            "Epoch 11/100\n",
            "192/192 [==============================] - 1s 4ms/step - loss: 205135.1719 - accuracy: 0.0000e+00 - val_loss: 205056.1094 - val_accuracy: 0.0000e+00\n",
            "Epoch 12/100\n",
            "192/192 [==============================] - 1s 3ms/step - loss: 204968.8906 - accuracy: 0.0000e+00 - val_loss: 204889.1094 - val_accuracy: 0.0000e+00\n",
            "Epoch 13/100\n",
            "192/192 [==============================] - 0s 2ms/step - loss: 204801.3438 - accuracy: 0.0000e+00 - val_loss: 204720.9688 - val_accuracy: 0.0000e+00\n",
            "Epoch 14/100\n",
            "192/192 [==============================] - 0s 2ms/step - loss: 204632.7188 - accuracy: 0.0000e+00 - val_loss: 204551.9062 - val_accuracy: 0.0000e+00\n",
            "Epoch 15/100\n",
            "192/192 [==============================] - 0s 2ms/step - loss: 204463.4688 - accuracy: 0.0000e+00 - val_loss: 204382.2500 - val_accuracy: 0.0000e+00\n",
            "Epoch 16/100\n",
            "192/192 [==============================] - 0s 2ms/step - loss: 204293.5625 - accuracy: 0.0000e+00 - val_loss: 204212.0469 - val_accuracy: 0.0000e+00\n",
            "Epoch 17/100\n",
            "192/192 [==============================] - 0s 2ms/step - loss: 204122.9844 - accuracy: 0.0000e+00 - val_loss: 204041.4062 - val_accuracy: 0.0000e+00\n",
            "Epoch 18/100\n",
            "192/192 [==============================] - 0s 2ms/step - loss: 203952.2969 - accuracy: 0.0000e+00 - val_loss: 203870.4531 - val_accuracy: 0.0000e+00\n",
            "Epoch 19/100\n",
            "192/192 [==============================] - 0s 2ms/step - loss: 203781.1875 - accuracy: 0.0000e+00 - val_loss: 203699.1719 - val_accuracy: 0.0000e+00\n",
            "Epoch 20/100\n",
            "192/192 [==============================] - 0s 2ms/step - loss: 203609.7500 - accuracy: 0.0000e+00 - val_loss: 203527.7344 - val_accuracy: 0.0000e+00\n",
            "Epoch 21/100\n",
            "192/192 [==============================] - 0s 2ms/step - loss: 203438.2969 - accuracy: 0.0000e+00 - val_loss: 203356.1562 - val_accuracy: 0.0000e+00\n",
            "Epoch 22/100\n",
            "192/192 [==============================] - 0s 2ms/step - loss: 203266.6406 - accuracy: 0.0000e+00 - val_loss: 203184.4062 - val_accuracy: 0.0000e+00\n",
            "Epoch 23/100\n",
            "192/192 [==============================] - 0s 2ms/step - loss: 203094.8438 - accuracy: 0.0000e+00 - val_loss: 203012.5312 - val_accuracy: 0.0000e+00\n",
            "Epoch 24/100\n",
            "192/192 [==============================] - 0s 2ms/step - loss: 202922.9219 - accuracy: 0.0000e+00 - val_loss: 202840.6406 - val_accuracy: 0.0000e+00\n",
            "Epoch 25/100\n",
            "192/192 [==============================] - 0s 2ms/step - loss: 202751.0625 - accuracy: 0.0000e+00 - val_loss: 202668.7656 - val_accuracy: 0.0000e+00\n",
            "Epoch 26/100\n",
            "192/192 [==============================] - 0s 2ms/step - loss: 202579.1875 - accuracy: 0.0000e+00 - val_loss: 202496.9062 - val_accuracy: 0.0000e+00\n",
            "Epoch 27/100\n",
            "192/192 [==============================] - 0s 2ms/step - loss: 202407.2812 - accuracy: 0.0000e+00 - val_loss: 202324.9375 - val_accuracy: 0.0000e+00\n",
            "Epoch 28/100\n",
            "192/192 [==============================] - 0s 2ms/step - loss: 202235.3438 - accuracy: 0.0000e+00 - val_loss: 202153.0312 - val_accuracy: 0.0000e+00\n",
            "Epoch 29/100\n",
            "192/192 [==============================] - 0s 2ms/step - loss: 202063.4375 - accuracy: 0.0000e+00 - val_loss: 201981.1562 - val_accuracy: 0.0000e+00\n",
            "Epoch 30/100\n",
            "192/192 [==============================] - 0s 2ms/step - loss: 201891.5312 - accuracy: 0.0000e+00 - val_loss: 201809.3125 - val_accuracy: 0.0000e+00\n",
            "Epoch 31/100\n",
            "192/192 [==============================] - 0s 2ms/step - loss: 201719.8125 - accuracy: 0.0000e+00 - val_loss: 201637.5312 - val_accuracy: 0.0000e+00\n",
            "Epoch 32/100\n",
            "192/192 [==============================] - 0s 2ms/step - loss: 201547.9531 - accuracy: 0.0000e+00 - val_loss: 201465.7031 - val_accuracy: 0.0000e+00\n",
            "Epoch 33/100\n",
            "192/192 [==============================] - 0s 2ms/step - loss: 201376.2344 - accuracy: 0.0000e+00 - val_loss: 201294.0469 - val_accuracy: 0.0000e+00\n",
            "Epoch 34/100\n",
            "192/192 [==============================] - 0s 2ms/step - loss: 201204.5469 - accuracy: 0.0000e+00 - val_loss: 201122.3594 - val_accuracy: 0.0000e+00\n",
            "Epoch 35/100\n",
            "192/192 [==============================] - 0s 2ms/step - loss: 201032.9531 - accuracy: 0.0000e+00 - val_loss: 200950.7656 - val_accuracy: 0.0000e+00\n",
            "Epoch 36/100\n",
            "192/192 [==============================] - 0s 2ms/step - loss: 200861.4531 - accuracy: 0.0000e+00 - val_loss: 200779.2031 - val_accuracy: 0.0000e+00\n",
            "Epoch 37/100\n",
            "192/192 [==============================] - 0s 2ms/step - loss: 200689.9531 - accuracy: 0.0000e+00 - val_loss: 200607.8125 - val_accuracy: 0.0000e+00\n",
            "Epoch 38/100\n",
            "192/192 [==============================] - 0s 2ms/step - loss: 200518.5156 - accuracy: 0.0000e+00 - val_loss: 200436.3750 - val_accuracy: 0.0000e+00\n",
            "Epoch 39/100\n",
            "192/192 [==============================] - 0s 2ms/step - loss: 200347.1562 - accuracy: 0.0000e+00 - val_loss: 200265.0469 - val_accuracy: 0.0000e+00\n",
            "Epoch 40/100\n",
            "192/192 [==============================] - 0s 2ms/step - loss: 200175.8438 - accuracy: 0.0000e+00 - val_loss: 200093.7656 - val_accuracy: 0.0000e+00\n",
            "Epoch 41/100\n",
            "192/192 [==============================] - 0s 2ms/step - loss: 200004.5000 - accuracy: 0.0000e+00 - val_loss: 199922.6094 - val_accuracy: 0.0000e+00\n",
            "Epoch 42/100\n",
            "192/192 [==============================] - 0s 2ms/step - loss: 199833.4062 - accuracy: 0.0000e+00 - val_loss: 199751.4219 - val_accuracy: 0.0000e+00\n",
            "Epoch 43/100\n",
            "192/192 [==============================] - 0s 2ms/step - loss: 199662.2500 - accuracy: 0.0000e+00 - val_loss: 199580.3594 - val_accuracy: 0.0000e+00\n",
            "Epoch 44/100\n",
            "192/192 [==============================] - 0s 2ms/step - loss: 199491.3125 - accuracy: 0.0000e+00 - val_loss: 199409.3906 - val_accuracy: 0.0000e+00\n",
            "Epoch 45/100\n",
            "192/192 [==============================] - 0s 2ms/step - loss: 199320.2969 - accuracy: 0.0000e+00 - val_loss: 199238.4375 - val_accuracy: 0.0000e+00\n",
            "Epoch 46/100\n",
            "192/192 [==============================] - 0s 2ms/step - loss: 199149.4375 - accuracy: 0.0000e+00 - val_loss: 199067.6094 - val_accuracy: 0.0000e+00\n",
            "Epoch 47/100\n",
            "192/192 [==============================] - 0s 2ms/step - loss: 198978.5625 - accuracy: 0.0000e+00 - val_loss: 198896.7344 - val_accuracy: 0.0000e+00\n",
            "Epoch 48/100\n",
            "192/192 [==============================] - 0s 2ms/step - loss: 198807.8594 - accuracy: 0.0000e+00 - val_loss: 198726.0781 - val_accuracy: 0.0000e+00\n",
            "Epoch 49/100\n",
            "192/192 [==============================] - 0s 2ms/step - loss: 198637.1875 - accuracy: 0.0000e+00 - val_loss: 198555.4844 - val_accuracy: 0.0000e+00\n",
            "Epoch 50/100\n",
            "192/192 [==============================] - 0s 2ms/step - loss: 198466.6250 - accuracy: 0.0000e+00 - val_loss: 198384.8906 - val_accuracy: 0.0000e+00\n",
            "Epoch 51/100\n",
            "192/192 [==============================] - 0s 2ms/step - loss: 198296.0625 - accuracy: 0.0000e+00 - val_loss: 198214.3906 - val_accuracy: 0.0000e+00\n",
            "Epoch 52/100\n",
            "192/192 [==============================] - 0s 2ms/step - loss: 198125.6094 - accuracy: 0.0000e+00 - val_loss: 198044.0312 - val_accuracy: 0.0000e+00\n",
            "Epoch 53/100\n",
            "192/192 [==============================] - 0s 2ms/step - loss: 197955.2031 - accuracy: 0.0000e+00 - val_loss: 197873.6562 - val_accuracy: 0.0000e+00\n",
            "Epoch 54/100\n",
            "192/192 [==============================] - 0s 2ms/step - loss: 197784.9219 - accuracy: 0.0000e+00 - val_loss: 197703.4844 - val_accuracy: 0.0000e+00\n",
            "Epoch 55/100\n",
            "192/192 [==============================] - 0s 2ms/step - loss: 197614.7188 - accuracy: 0.0000e+00 - val_loss: 197533.1719 - val_accuracy: 0.0000e+00\n",
            "Epoch 56/100\n",
            "192/192 [==============================] - 0s 2ms/step - loss: 197444.4219 - accuracy: 0.0000e+00 - val_loss: 197363.0781 - val_accuracy: 0.0000e+00\n",
            "Epoch 57/100\n",
            "192/192 [==============================] - 0s 2ms/step - loss: 197274.4844 - accuracy: 0.0000e+00 - val_loss: 197193.0312 - val_accuracy: 0.0000e+00\n",
            "Epoch 58/100\n",
            "192/192 [==============================] - 0s 2ms/step - loss: 197104.4531 - accuracy: 0.0000e+00 - val_loss: 197023.0312 - val_accuracy: 0.0000e+00\n",
            "Epoch 59/100\n",
            "192/192 [==============================] - 0s 2ms/step - loss: 196934.4688 - accuracy: 0.0000e+00 - val_loss: 196853.1562 - val_accuracy: 0.0000e+00\n",
            "Epoch 60/100\n",
            "192/192 [==============================] - 0s 2ms/step - loss: 196764.7188 - accuracy: 0.0000e+00 - val_loss: 196683.3281 - val_accuracy: 0.0000e+00\n",
            "Epoch 61/100\n",
            "192/192 [==============================] - 0s 2ms/step - loss: 196594.9062 - accuracy: 0.0000e+00 - val_loss: 196513.6250 - val_accuracy: 0.0000e+00\n",
            "Epoch 62/100\n",
            "192/192 [==============================] - 0s 2ms/step - loss: 196425.2031 - accuracy: 0.0000e+00 - val_loss: 196343.9531 - val_accuracy: 0.0000e+00\n",
            "Epoch 63/100\n",
            "192/192 [==============================] - 0s 2ms/step - loss: 196255.5625 - accuracy: 0.0000e+00 - val_loss: 196174.3125 - val_accuracy: 0.0000e+00\n",
            "Epoch 64/100\n",
            "192/192 [==============================] - 0s 2ms/step - loss: 196085.9375 - accuracy: 0.0000e+00 - val_loss: 196004.7812 - val_accuracy: 0.0000e+00\n",
            "Epoch 65/100\n",
            "192/192 [==============================] - 0s 2ms/step - loss: 195916.4844 - accuracy: 0.0000e+00 - val_loss: 195835.3125 - val_accuracy: 0.0000e+00\n",
            "Epoch 66/100\n",
            "192/192 [==============================] - 0s 2ms/step - loss: 195746.9688 - accuracy: 0.0000e+00 - val_loss: 195665.8750 - val_accuracy: 0.0000e+00\n",
            "Epoch 67/100\n",
            "192/192 [==============================] - 0s 2ms/step - loss: 195577.6875 - accuracy: 0.0000e+00 - val_loss: 195496.5469 - val_accuracy: 0.0000e+00\n",
            "Epoch 68/100\n",
            "192/192 [==============================] - 0s 2ms/step - loss: 195408.4062 - accuracy: 0.0000e+00 - val_loss: 195327.3594 - val_accuracy: 0.0000e+00\n",
            "Epoch 69/100\n",
            "192/192 [==============================] - 0s 2ms/step - loss: 195239.2188 - accuracy: 0.0000e+00 - val_loss: 195158.1719 - val_accuracy: 0.0000e+00\n",
            "Epoch 70/100\n",
            "192/192 [==============================] - 0s 2ms/step - loss: 195070.0938 - accuracy: 0.0000e+00 - val_loss: 194989.0625 - val_accuracy: 0.0000e+00\n",
            "Epoch 71/100\n",
            "192/192 [==============================] - 0s 2ms/step - loss: 194901.0000 - accuracy: 0.0000e+00 - val_loss: 194820.0312 - val_accuracy: 0.0000e+00\n",
            "Epoch 72/100\n",
            "192/192 [==============================] - 0s 2ms/step - loss: 194732.0000 - accuracy: 0.0000e+00 - val_loss: 194651.1094 - val_accuracy: 0.0000e+00\n",
            "Epoch 73/100\n",
            "192/192 [==============================] - 0s 2ms/step - loss: 194563.0781 - accuracy: 0.0000e+00 - val_loss: 194482.2031 - val_accuracy: 0.0000e+00\n",
            "Epoch 74/100\n",
            "192/192 [==============================] - 0s 2ms/step - loss: 194394.2188 - accuracy: 0.0000e+00 - val_loss: 194313.4219 - val_accuracy: 0.0000e+00\n",
            "Epoch 75/100\n",
            "192/192 [==============================] - 0s 2ms/step - loss: 194225.5625 - accuracy: 0.0000e+00 - val_loss: 194144.7344 - val_accuracy: 0.0000e+00\n",
            "Epoch 76/100\n",
            "192/192 [==============================] - 0s 2ms/step - loss: 194056.8281 - accuracy: 0.0000e+00 - val_loss: 193976.0938 - val_accuracy: 0.0000e+00\n",
            "Epoch 77/100\n",
            "192/192 [==============================] - 0s 2ms/step - loss: 193888.2188 - accuracy: 0.0000e+00 - val_loss: 193807.4844 - val_accuracy: 0.0000e+00\n",
            "Epoch 78/100\n",
            "192/192 [==============================] - 0s 2ms/step - loss: 193719.6562 - accuracy: 0.0000e+00 - val_loss: 193638.9375 - val_accuracy: 0.0000e+00\n",
            "Epoch 79/100\n",
            "192/192 [==============================] - 0s 2ms/step - loss: 193551.2344 - accuracy: 0.0000e+00 - val_loss: 193470.5625 - val_accuracy: 0.0000e+00\n",
            "Epoch 80/100\n",
            "192/192 [==============================] - 1s 3ms/step - loss: 193382.8438 - accuracy: 0.0000e+00 - val_loss: 193302.2031 - val_accuracy: 0.0000e+00\n",
            "Epoch 81/100\n",
            "192/192 [==============================] - 1s 4ms/step - loss: 193214.5000 - accuracy: 0.0000e+00 - val_loss: 193133.8594 - val_accuracy: 0.0000e+00\n",
            "Epoch 82/100\n",
            "192/192 [==============================] - 1s 5ms/step - loss: 193046.2656 - accuracy: 0.0000e+00 - val_loss: 192965.6719 - val_accuracy: 0.0000e+00\n",
            "Epoch 83/100\n",
            "192/192 [==============================] - 0s 2ms/step - loss: 192878.0781 - accuracy: 0.0000e+00 - val_loss: 192797.5469 - val_accuracy: 0.0000e+00\n",
            "Epoch 84/100\n",
            "192/192 [==============================] - 0s 2ms/step - loss: 192710.0312 - accuracy: 0.0000e+00 - val_loss: 192629.5000 - val_accuracy: 0.0000e+00\n",
            "Epoch 85/100\n",
            "192/192 [==============================] - 0s 2ms/step - loss: 192542.0469 - accuracy: 0.0000e+00 - val_loss: 192461.5000 - val_accuracy: 0.0000e+00\n",
            "Epoch 86/100\n",
            "192/192 [==============================] - 0s 2ms/step - loss: 192374.0938 - accuracy: 0.0000e+00 - val_loss: 192293.6250 - val_accuracy: 0.0000e+00\n",
            "Epoch 87/100\n",
            "192/192 [==============================] - 0s 2ms/step - loss: 192206.2031 - accuracy: 0.0000e+00 - val_loss: 192125.7812 - val_accuracy: 0.0000e+00\n",
            "Epoch 88/100\n",
            "192/192 [==============================] - 0s 2ms/step - loss: 192038.4062 - accuracy: 0.0000e+00 - val_loss: 191957.9531 - val_accuracy: 0.0000e+00\n",
            "Epoch 89/100\n",
            "192/192 [==============================] - 0s 2ms/step - loss: 191870.6250 - accuracy: 0.0000e+00 - val_loss: 191790.2500 - val_accuracy: 0.0000e+00\n",
            "Epoch 90/100\n",
            "192/192 [==============================] - 0s 2ms/step - loss: 191703.0000 - accuracy: 0.0000e+00 - val_loss: 191622.7031 - val_accuracy: 0.0000e+00\n",
            "Epoch 91/100\n",
            "192/192 [==============================] - 0s 2ms/step - loss: 191535.4375 - accuracy: 0.0000e+00 - val_loss: 191455.1250 - val_accuracy: 0.0000e+00\n",
            "Epoch 92/100\n",
            "192/192 [==============================] - 0s 2ms/step - loss: 191367.8438 - accuracy: 0.0000e+00 - val_loss: 191287.5938 - val_accuracy: 0.0000e+00\n",
            "Epoch 93/100\n",
            "192/192 [==============================] - 0s 2ms/step - loss: 191200.3125 - accuracy: 0.0000e+00 - val_loss: 191120.2344 - val_accuracy: 0.0000e+00\n",
            "Epoch 94/100\n",
            "192/192 [==============================] - 0s 2ms/step - loss: 191032.9688 - accuracy: 0.0000e+00 - val_loss: 190952.8906 - val_accuracy: 0.0000e+00\n",
            "Epoch 95/100\n",
            "192/192 [==============================] - 0s 2ms/step - loss: 190865.7656 - accuracy: 0.0000e+00 - val_loss: 190785.6562 - val_accuracy: 0.0000e+00\n",
            "Epoch 96/100\n",
            "192/192 [==============================] - 0s 2ms/step - loss: 190698.5469 - accuracy: 0.0000e+00 - val_loss: 190618.4688 - val_accuracy: 0.0000e+00\n",
            "Epoch 97/100\n",
            "192/192 [==============================] - 0s 2ms/step - loss: 190531.3750 - accuracy: 0.0000e+00 - val_loss: 190451.3594 - val_accuracy: 0.0000e+00\n",
            "Epoch 98/100\n",
            "192/192 [==============================] - 0s 2ms/step - loss: 190364.3281 - accuracy: 0.0000e+00 - val_loss: 190284.2969 - val_accuracy: 0.0000e+00\n",
            "Epoch 99/100\n",
            "192/192 [==============================] - 0s 2ms/step - loss: 190197.3594 - accuracy: 0.0000e+00 - val_loss: 190117.3281 - val_accuracy: 0.0000e+00\n",
            "Epoch 100/100\n",
            "192/192 [==============================] - 0s 2ms/step - loss: 190030.4844 - accuracy: 0.0000e+00 - val_loss: 189950.4531 - val_accuracy: 0.0000e+00\n"
          ]
        }
      ]
    },
    {
      "cell_type": "markdown",
      "metadata": {
        "id": "0H0zKKNEBLD5"
      },
      "source": [
        "### Predicting the results of the Test set"
      ]
    },
    {
      "cell_type": "code",
      "metadata": {
        "id": "IA0yApEmBG1X",
        "colab": {
          "base_uri": "https://localhost:8080/"
        },
        "outputId": "44497d09-0644-47c8-8435-5079441e588f"
      },
      "source": [
        "# Almacenar valores predichos en una nueva variable\n",
        "y_pred = ann.predict(X_test)\n",
        "\n",
        "# Ajustar que la impresión se haga en 2 decimales\n",
        "np.set_printoptions(precision=2)\n",
        "\n",
        "#Dar forma vertical a las variables para comparar\n",
        "print(' y_pred vs. y_test')\n",
        "print(np.concatenate((y_pred.reshape(len(y_pred),1), y_test.reshape(len(y_test),1)),1))"
      ],
      "execution_count": 29,
      "outputs": [
        {
          "output_type": "stream",
          "name": "stdout",
          "text": [
            " y_pred vs. y_test\n",
            "[[ 18.81 431.23]\n",
            " [ 18.81 460.01]\n",
            " [ 18.81 461.14]\n",
            " ...\n",
            " [ 18.81 473.26]\n",
            " [ 18.81 438.  ]\n",
            " [ 18.81 463.28]]\n"
          ]
        }
      ]
    },
    {
      "cell_type": "markdown",
      "source": [
        "# Calidad de la estimación\n",
        "Coeficiente de determinación R-squared\n",
        "La calidad de la estimación se puede medir a través del Coeficiente de determinación"
      ],
      "metadata": {
        "id": "KGX4RWa5pxPG"
      }
    },
    {
      "cell_type": "code",
      "source": [
        "#Construir el modelo de regresión lineal\n",
        "\n",
        "#Statsmodel ajusta una linea para el conjunto de datos\n",
        "import statsmodels.api as sm\n",
        "\n",
        "#Cte de intercepción\n",
        "X_train_sm=sm.add_constant(X_train)\n",
        "print('Intecepto añadido - '+str(X_train_sm))"
      ],
      "metadata": {
        "colab": {
          "base_uri": "https://localhost:8080/"
        },
        "id": "FQ3YgdzxhRi0",
        "outputId": "008b1e0f-b96c-4452-f551-a1b8545dc30a"
      },
      "execution_count": 30,
      "outputs": [
        {
          "output_type": "stream",
          "name": "stdout",
          "text": [
            "Intecepto añadido - [[1.00e+00 8.43e+00 4.07e+01 1.02e+03 8.73e+01]\n",
            " [1.00e+00 2.70e+01 6.10e+01 1.01e+03 5.90e+01]\n",
            " [1.00e+00 2.11e+01 6.31e+01 1.01e+03 9.80e+01]\n",
            " ...\n",
            " [1.00e+00 2.39e+01 5.99e+01 1.01e+03 8.64e+01]\n",
            " [1.00e+00 1.59e+01 4.12e+01 1.01e+03 7.83e+01]\n",
            " [1.00e+00 2.64e+01 4.90e+01 1.01e+03 7.08e+01]]\n"
          ]
        }
      ]
    },
    {
      "cell_type": "code",
      "source": [
        "#Ajustar la linea de regresión\n",
        "lr=sm.OLS(y_train, X_train_sm).fit()\n",
        "lr.params\n",
        "lr.summary()"
      ],
      "metadata": {
        "colab": {
          "base_uri": "https://localhost:8080/",
          "height": 541
        },
        "id": "BO2qnl7Njrte",
        "outputId": "ea3cbdad-a0b3-4069-a86c-1dbaf5b674d4"
      },
      "execution_count": 31,
      "outputs": [
        {
          "output_type": "execute_result",
          "data": {
            "text/plain": [
              "<class 'statsmodels.iolib.summary.Summary'>\n",
              "\"\"\"\n",
              "                            OLS Regression Results                            \n",
              "==============================================================================\n",
              "Dep. Variable:                      y   R-squared:                       0.928\n",
              "Model:                            OLS   Adj. R-squared:                  0.928\n",
              "Method:                 Least Squares   F-statistic:                 1.975e+04\n",
              "Date:                Fri, 20 May 2022   Prob (F-statistic):               0.00\n",
              "Time:                        13:05:04   Log-Likelihood:                -17998.\n",
              "No. Observations:                6123   AIC:                         3.601e+04\n",
              "Df Residuals:                    6118   BIC:                         3.604e+04\n",
              "Df Model:                           4                                         \n",
              "Covariance Type:            nonrobust                                         \n",
              "==============================================================================\n",
              "                 coef    std err          t      P>|t|      [0.025      0.975]\n",
              "------------------------------------------------------------------------------\n",
              "const        439.0181     12.347     35.556      0.000     414.813     463.223\n",
              "x1            -1.9636      0.019   -102.166      0.000      -2.001      -1.926\n",
              "x2            -0.2367      0.009    -25.704      0.000      -0.255      -0.219\n",
              "x3             0.0774      0.012      6.457      0.000       0.054       0.101\n",
              "x4            -0.1577      0.005    -30.281      0.000      -0.168      -0.147\n",
              "==============================================================================\n",
              "Omnibus:                      547.032   Durbin-Watson:                   1.990\n",
              "Prob(Omnibus):                  0.000   Jarque-Bera (JB):             2304.747\n",
              "Skew:                          -0.356   Prob(JB):                         0.00\n",
              "Kurtosis:                       5.920   Cond. No.                     2.15e+05\n",
              "==============================================================================\n",
              "\n",
              "Warnings:\n",
              "[1] Standard Errors assume that the covariance matrix of the errors is correctly specified.\n",
              "[2] The condition number is large, 2.15e+05. This might indicate that there are\n",
              "strong multicollinearity or other numerical problems.\n",
              "\"\"\""
            ],
            "text/html": [
              "<table class=\"simpletable\">\n",
              "<caption>OLS Regression Results</caption>\n",
              "<tr>\n",
              "  <th>Dep. Variable:</th>            <td>y</td>        <th>  R-squared:         </th> <td>   0.928</td> \n",
              "</tr>\n",
              "<tr>\n",
              "  <th>Model:</th>                   <td>OLS</td>       <th>  Adj. R-squared:    </th> <td>   0.928</td> \n",
              "</tr>\n",
              "<tr>\n",
              "  <th>Method:</th>             <td>Least Squares</td>  <th>  F-statistic:       </th> <td>1.975e+04</td>\n",
              "</tr>\n",
              "<tr>\n",
              "  <th>Date:</th>             <td>Fri, 20 May 2022</td> <th>  Prob (F-statistic):</th>  <td>  0.00</td>  \n",
              "</tr>\n",
              "<tr>\n",
              "  <th>Time:</th>                 <td>13:05:04</td>     <th>  Log-Likelihood:    </th> <td> -17998.</td> \n",
              "</tr>\n",
              "<tr>\n",
              "  <th>No. Observations:</th>      <td>  6123</td>      <th>  AIC:               </th> <td>3.601e+04</td>\n",
              "</tr>\n",
              "<tr>\n",
              "  <th>Df Residuals:</th>          <td>  6118</td>      <th>  BIC:               </th> <td>3.604e+04</td>\n",
              "</tr>\n",
              "<tr>\n",
              "  <th>Df Model:</th>              <td>     4</td>      <th>                     </th>     <td> </td>    \n",
              "</tr>\n",
              "<tr>\n",
              "  <th>Covariance Type:</th>      <td>nonrobust</td>    <th>                     </th>     <td> </td>    \n",
              "</tr>\n",
              "</table>\n",
              "<table class=\"simpletable\">\n",
              "<tr>\n",
              "    <td></td>       <th>coef</th>     <th>std err</th>      <th>t</th>      <th>P>|t|</th>  <th>[0.025</th>    <th>0.975]</th>  \n",
              "</tr>\n",
              "<tr>\n",
              "  <th>const</th> <td>  439.0181</td> <td>   12.347</td> <td>   35.556</td> <td> 0.000</td> <td>  414.813</td> <td>  463.223</td>\n",
              "</tr>\n",
              "<tr>\n",
              "  <th>x1</th>    <td>   -1.9636</td> <td>    0.019</td> <td> -102.166</td> <td> 0.000</td> <td>   -2.001</td> <td>   -1.926</td>\n",
              "</tr>\n",
              "<tr>\n",
              "  <th>x2</th>    <td>   -0.2367</td> <td>    0.009</td> <td>  -25.704</td> <td> 0.000</td> <td>   -0.255</td> <td>   -0.219</td>\n",
              "</tr>\n",
              "<tr>\n",
              "  <th>x3</th>    <td>    0.0774</td> <td>    0.012</td> <td>    6.457</td> <td> 0.000</td> <td>    0.054</td> <td>    0.101</td>\n",
              "</tr>\n",
              "<tr>\n",
              "  <th>x4</th>    <td>   -0.1577</td> <td>    0.005</td> <td>  -30.281</td> <td> 0.000</td> <td>   -0.168</td> <td>   -0.147</td>\n",
              "</tr>\n",
              "</table>\n",
              "<table class=\"simpletable\">\n",
              "<tr>\n",
              "  <th>Omnibus:</th>       <td>547.032</td> <th>  Durbin-Watson:     </th> <td>   1.990</td>\n",
              "</tr>\n",
              "<tr>\n",
              "  <th>Prob(Omnibus):</th> <td> 0.000</td>  <th>  Jarque-Bera (JB):  </th> <td>2304.747</td>\n",
              "</tr>\n",
              "<tr>\n",
              "  <th>Skew:</th>          <td>-0.356</td>  <th>  Prob(JB):          </th> <td>    0.00</td>\n",
              "</tr>\n",
              "<tr>\n",
              "  <th>Kurtosis:</th>      <td> 5.920</td>  <th>  Cond. No.          </th> <td>2.15e+05</td>\n",
              "</tr>\n",
              "</table><br/><br/>Warnings:<br/>[1] Standard Errors assume that the covariance matrix of the errors is correctly specified.<br/>[2] The condition number is large, 2.15e+05. This might indicate that there are<br/>strong multicollinearity or other numerical problems."
            ]
          },
          "metadata": {},
          "execution_count": 31
        }
      ]
    },
    {
      "cell_type": "markdown",
      "source": [
        "R-squared value es 0.928.\n",
        "\n",
        "92.8% de la varianza del peso para el conjunto de datos de prueba puede explicarse por la altura.\n",
        "\n",
        "F es bajo, el ajuste es significativo\n",
        "Los errores estándar suponen que la matriz de covarianza de los errores está correctamente especificada.\n",
        "\n",
        "El número de condición es grande, 2,15e+05. Esto podría indicar que hay fuerte multicolinealidad u otros problemas numéricos."
      ],
      "metadata": {
        "id": "kp-mWFfQoHAh"
      }
    },
    {
      "cell_type": "code",
      "source": [
        "#Graficar comparación de resultados\n",
        "plt.figure(figsize=(10,10))\n",
        "plt.scatter(y_test, y_pred, c='crimson')\n",
        "plt.yscale('log')\n",
        "plt.xscale('log')\n",
        "\n",
        "p1 = max(max(y_pred), max(y_test))\n",
        "p2 = min(min(y_pred), min(y_test))\n",
        "plt.plot([p1, p2], [p1, p2], 'b-')\n",
        "plt.xlabel('True Values', fontsize=15)\n",
        "plt.ylabel('Predictions', fontsize=15)\n",
        "plt.axis('equal')\n",
        "plt.show()"
      ],
      "metadata": {
        "colab": {
          "base_uri": "https://localhost:8080/",
          "height": 669
        },
        "id": "WPnZOV8mP40h",
        "outputId": "efdb54ad-145a-4596-d9af-01d1ae79ba7f"
      },
      "execution_count": 32,
      "outputs": [
        {
          "output_type": "stream",
          "name": "stderr",
          "text": [
            "/usr/local/lib/python3.7/dist-packages/numpy/core/shape_base.py:65: VisibleDeprecationWarning: Creating an ndarray from ragged nested sequences (which is a list-or-tuple of lists-or-tuples-or ndarrays with different lengths or shapes) is deprecated. If you meant to do this, you must specify 'dtype=object' when creating the ndarray.\n",
            "  ary = asanyarray(ary)\n"
          ]
        },
        {
          "output_type": "display_data",
          "data": {
            "text/plain": [
              "<Figure size 720x720 with 1 Axes>"
            ],
            "image/png": "[encoded data removed]"
          },
          "metadata": {
            "needs_background": "light"
          }
        }
      ]
    },
    {
      "cell_type": "markdown",
      "source": [
        "Para un conjunto de datos dado, si tenemos una variable dependiente e independiente continua, se puede utilizar un modelo estadístico de regresión lineal simple para predecir la variable dependiente"
      ],
      "metadata": {
        "id": "z-0HGxMq_46d"
      }
    }
  ]
}