{
  "nbformat": 4,
  "nbformat_minor": 0,
  "metadata": {
    "colab": {
      "name": "Tarea 4.ipynb",
      "provenance": [],
      "collapsed_sections": [],
      "authorship_tag": "ABX9TyOeQaE4WaHdZ7Yij15xyEmC"
    },
    "kernelspec": {
      "name": "python3",
      "display_name": "Python 3"
    },
    "language_info": {
      "name": "python"
    }
  },
  "cells": [
    {
      "cell_type": "markdown",
      "source": [
        "**IMA-602 Herramientas básicas para el Análisis de Datos**\n",
        "\n",
        "# Tarea 4 - Modelos Probabilísticos y Límites de Variables Aleatorias\n",
        "\n",
        "**Autor:** Carolina Reyes Miró\n",
        "\n",
        "**Profesor:** Hernán Mardones González\n",
        "\n",
        "**Fecha:** 1 de julio 2022\n",
        "\n",
        "\n",
        "---"
      ],
      "metadata": {
        "id": "_cW1owb5x_jQ"
      }
    },
    {
      "cell_type": "markdown",
      "source": [
        "# 1. Seis dados son lanzados doscientas veces por unos jugadores. Estime la probabilidad de obtener seis diferentes caras una cantidad de k veces, en los casos k ∈ {0, 1, 2, 3, 4, 5}.\n"
      ],
      "metadata": {
        "id": "Q46asp1jGIHV"
      }
    },
    {
      "cell_type": "markdown",
      "source": [
        "Hay formas de lanzar el dado 200 veces $6^{200}$\n",
        "\n",
        "De esos $5^{200}$ no incluye al 1, $5^{200}$ no incluye al 2 y así sucesivamente.\n",
        "\n",
        "El número de secuencias que no tienen como resultado las 6 caras distintas es\n",
        "\n",
        "$\\begin{pmatrix}\n",
        " 6\\\\1\n",
        "\\end{pmatrix} 5^{200}-\\begin{pmatrix}\n",
        " 6\\\\2\n",
        "\\end{pmatrix} 4^{200}+\\begin{pmatrix}\n",
        " 6\\\\3\n",
        "\\end{pmatrix} 3^{200}-\\begin{pmatrix}\n",
        " 6\\\\4\n",
        "\\end{pmatrix} 2^{200}+\\begin{pmatrix}\n",
        " 6\\\\5\n",
        "\\end{pmatrix} 1^{200}$\n",
        "\n",
        "La probabilidad de que aparezcan las 6 caras del dado en 200 lanzadas es\n",
        "\n",
        "$1-\\begin{pmatrix}\n",
        "6 \\\\ 1\n",
        "\\end{pmatrix}\\begin{pmatrix}\n",
        " 5\\\\6\n",
        "\\end{pmatrix}^{200}+\\begin{pmatrix}\n",
        "6 \\\\ 2\n",
        "\\end{pmatrix}\\begin{pmatrix}\n",
        "4 \\\\ 6\n",
        "\\end{pmatrix}^{200}-\\begin{pmatrix}\n",
        "6 \\\\ 3\n",
        "\\end{pmatrix}\\begin{pmatrix}\n",
        "3 \\\\ 6\n",
        "\\end{pmatrix}^{200}+\\begin{pmatrix}\n",
        "6 \\\\ 4\n",
        "\\end{pmatrix}\\begin{pmatrix}\n",
        "4 \\\\ 6\n",
        "\\end{pmatrix}^{200}-\\begin{pmatrix}\n",
        "6 \\\\ 5\n",
        "\\end{pmatrix}\\begin{pmatrix}\n",
        "1 \\\\ 6\n",
        "\\end{pmatrix}^{200}$\n",
        "\n",
        "$=1-6\\begin{pmatrix}\n",
        " 5\\\\6\n",
        "\\end{pmatrix}^{200}+15\\begin{pmatrix}\n",
        "4 \\\\ 6\n",
        "\\end{pmatrix}^{200}-20\\begin{pmatrix}\n",
        "3 \\\\ 6\n",
        "\\end{pmatrix}^{200}+15\\begin{pmatrix}\n",
        "4 \\\\ 6\n",
        "\\end{pmatrix}^{200}-6\\begin{pmatrix}\n",
        "1 \\\\ 6\n",
        "\\end{pmatrix}^{200}$\n",
        "\n",
        "$=\\frac{6^{200}-6\\cdot 5^{200}+15\\cdot 4^{200}-20\\cdot 3^{200}+15\\cdot 2^{200}-6}{6^{200}}$"
      ],
      "metadata": {
        "id": "FmPDMjgTTQTp"
      }
    },
    {
      "cell_type": "markdown",
      "source": [
        "# 2. Un dado es lanzado cien veces. Encuentre la probabilidad que la suma de todos los números obtenidos resulte entre 330 y 380."
      ],
      "metadata": {
        "id": "z1_fgghe65Sb"
      }
    },
    {
      "cell_type": "code",
      "source": [
        "import random\n",
        "def simulatediceplay(num_of_dice):\n",
        "  sum = 0\n",
        "  for i in range(num_of_dice):\n",
        "    sum +=random.randint(1,6)\n",
        "  return sum\n",
        "\n",
        "def generateplay(num_of_dice,num_of_runs):\n",
        "  lst = []\n",
        "  for i in range(num_of_runs):\n",
        "    lst.append(simulatediceplay(num_of_dice))\n",
        "  return lst\n",
        "\n",
        "lst = generateplay(100,100)\n",
        "import seaborn as sns\n",
        "sns.distplot(lst);"
      ],
      "metadata": {
        "colab": {
          "base_uri": "https://localhost:8080/",
          "height": 337
        },
        "id": "dof2NU4b5y9a",
        "outputId": "d3da2819-7210-4e50-fbe4-e79fa58133f5"
      },
      "execution_count": 21,
      "outputs": [
        {
          "output_type": "stream",
          "name": "stdout",
          "text": [
            "<built-in function sum>\n"
          ]
        },
        {
          "output_type": "stream",
          "name": "stderr",
          "text": [
            "/usr/local/lib/python3.7/dist-packages/seaborn/distributions.py:2619: FutureWarning: `distplot` is a deprecated function and will be removed in a future version. Please adapt your code to use either `displot` (a figure-level function with similar flexibility) or `histplot` (an axes-level function for histograms).\n",
            "  warnings.warn(msg, FutureWarning)\n"
          ]
        },
        {
          "output_type": "display_data",
          "data": {
            "text/plain": [
              "<Figure size 432x288 with 1 Axes>"
            ],
            "image/png": "[encoded data removed]"
          },
          "metadata": {
            "needs_background": "light"
          }
        }
      ]
    },
    {
      "cell_type": "markdown",
      "source": [
        "# 3. Deduzca que si una moneda es lanzada más de 2500 veces, entonces hay una certeza del 95 % que la frecuencia relativa de caras obtenidas difiera del valor medio p en no más de un 2 %.\n"
      ],
      "metadata": {
        "id": "jgQ360nqGcYp"
      }
    }
  ]
}